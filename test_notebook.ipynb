{
 "cells": [
  {
   "cell_type": "code",
   "execution_count": 1,
   "metadata": {
    "collapsed": false,
    "deletable": true,
    "editable": true
   },
   "outputs": [],
   "source": [
    "from classMVA import MVA"
   ]
  },
  {
   "cell_type": "code",
   "execution_count": 2,
   "metadata": {
    "collapsed": true,
    "deletable": true,
    "editable": true
   },
   "outputs": [],
   "source": [
    "import urllib2\n",
    "from pyspark.mllib.regression import LabeledPoint\n",
    "\n",
    "response = urllib2.urlopen(\"https://archive.ics.uci.edu/ml/machine-learning-databases/statlog/satimage/sat.trn\")\n",
    "textdata = response.read()\n",
    "RDD = sc.parallelize(textdata.split('\\n')[:-1]).map(lambda line: line.split(\" \"))\n",
    "\n",
    "RDD_labeled=RDD.map(lambda x: LabeledPoint(x[-1],x[0:-1]))"
   ]
  },
  {
   "cell_type": "code",
   "execution_count": 3,
   "metadata": {
    "collapsed": false,
    "deletable": true,
    "editable": true
   },
   "outputs": [
    {
     "name": "stdout",
     "output_type": "stream",
     "text": [
      "4435\n",
      "[LabeledPoint(3.0, [92.0,115.0,120.0,94.0,84.0,102.0,106.0,79.0,84.0,102.0,102.0,83.0,101.0,126.0,133.0,103.0,92.0,112.0,118.0,85.0,84.0,103.0,104.0,81.0,102.0,126.0,134.0,104.0,88.0,121.0,128.0,100.0,84.0,107.0,113.0,87.0]), LabeledPoint(3.0, [84.0,102.0,106.0,79.0,84.0,102.0,102.0,83.0,80.0,102.0,102.0,79.0,92.0,112.0,118.0,85.0,84.0,103.0,104.0,81.0,84.0,99.0,104.0,78.0,88.0,121.0,128.0,100.0,84.0,107.0,113.0,87.0,84.0,99.0,104.0,79.0])]\n"
     ]
    }
   ],
   "source": [
    "print RDD_labeled.count()\n",
    "print RDD_labeled.take(2)"
   ]
  },
  {
   "cell_type": "code",
   "execution_count": 4,
   "metadata": {
    "collapsed": false,
    "deletable": true,
    "editable": true
   },
   "outputs": [],
   "source": [
    "prueba = MVA('OPLS','l1','norm',1e-5)\n",
    "prueba.prepareData(RDD_labeled)\n",
    "prueba.normalizer()"
   ]
  },
  {
   "cell_type": "code",
   "execution_count": 5,
   "metadata": {
    "collapsed": false,
    "deletable": true,
    "editable": true
   },
   "outputs": [
    {
     "name": "stdout",
     "output_type": "stream",
     "text": [
      "OPLS\n",
      "l1\n",
      "norm\n",
      "1e-05\n",
      "36\n",
      "6\n",
      "[(DenseVector([0.0, 0.0, 1.0, 0.0, 0.0, 0.0]), DenseVector([92.0, 115.0, 120.0, 94.0, 84.0, 102.0, 106.0, 79.0, 84.0, 102.0, 102.0, 83.0, 101.0, 126.0, 133.0, 103.0, 92.0, 112.0, 118.0, 85.0, 84.0, 103.0, 104.0, 81.0, 102.0, 126.0, 134.0, 104.0, 88.0, 121.0, 128.0, 100.0, 84.0, 107.0, 113.0, 87.0])), (DenseVector([0.0, 0.0, 1.0, 0.0, 0.0, 0.0]), DenseVector([84.0, 102.0, 106.0, 79.0, 84.0, 102.0, 102.0, 83.0, 80.0, 102.0, 102.0, 79.0, 92.0, 112.0, 118.0, 85.0, 84.0, 103.0, 104.0, 81.0, 84.0, 99.0, 104.0, 78.0, 88.0, 121.0, 128.0, 100.0, 84.0, 107.0, 113.0, 87.0, 84.0, 99.0, 104.0, 79.0]))]\n",
      "[(DenseVector([-0.2417, -0.108, 0.7833, -0.0936, -0.106, -0.234]), DenseVector([1.6503, 1.3705, 1.2402, 0.6121, 1.0914, 0.811, 0.4105, -0.186, 1.114, 0.8271, 0.1815, 0.0311, 2.3156, 1.855, 2.0126, 1.0821, 1.6867, 1.2519, 1.1215, 0.1264, 1.1199, 0.8699, 0.2988, -0.0782, 2.3993, 1.8591, 2.0762, 1.1293, 1.4014, 1.6467, 1.7213, 0.9167, 1.1314, 1.0476, 0.8366, 0.2337])), (DenseVector([-0.2417, -0.108, 0.7833, -0.0936, -0.106, -0.234]), DenseVector([1.0642, 0.7984, 0.4005, -0.1902, 1.0914, 0.811, 0.1699, 0.0278, 0.8177, 0.8271, 0.1815, -0.1812, 1.6566, 1.2406, 1.1138, 0.1248, 1.0968, 0.8575, 0.2845, -0.0858, 1.1199, 0.6946, 0.2988, -0.2367, 1.3735, 1.6395, 1.7169, 0.9175, 1.1059, 1.033, 0.8253, 0.2303, 1.1314, 0.6962, 0.2964, -0.1897]))]\n",
      "<pyspark.mllib.feature.StandardScalerModel object at 0x7f71241904d0>\n",
      "None\n"
     ]
    }
   ],
   "source": [
    "print prueba._typeMVA\n",
    "print prueba._typeReg\n",
    "print prueba._typeNorm\n",
    "print prueba._tol\n",
    "print prueba._numVariables\n",
    "print prueba._M\n",
    "print prueba._data.take(2)\n",
    "print prueba._normdata.take(2)\n",
    "print prueba._scaler\n",
    "print prueba._U"
   ]
  },
  {
   "cell_type": "code",
   "execution_count": null,
   "metadata": {
    "collapsed": false,
    "deletable": true,
    "editable": true
   },
   "outputs": [
    {
     "name": "stdout",
     "output_type": "stream",
     "text": [
      "Extracting projection vector 0 out of 35\n",
      "Extracting projection vector 1 out of 35\n",
      "Extracting projection vector 2 out of 35\n",
      "Extracting projection vector 3 out of 35\n",
      "Extracting projection vector 4 out of 35\n",
      "Extracting projection vector 5 out of 35\n",
      "Extracting projection vector 6 out of 35\n",
      "Extracting projection vector 7 out of 35\n",
      "Extracting projection vector 8 out of 35\n",
      "Extracting projection vector 9 out of 35\n",
      "Extracting projection vector 10 out of 35\n",
      "Extracting projection vector 11 out of 35\n",
      "Extracting projection vector 12 out of 35\n",
      "Extracting projection vector 13 out of 35\n",
      "Extracting projection vector 14 out of 35\n",
      "Extracting projection vector 15 out of 35\n",
      "Extracting projection vector 16 out of 35\n",
      "Extracting projection vector 17 out of 35\n",
      "Extracting projection vector 18 out of 35\n",
      "Extracting projection vector 19 out of 35\n",
      "Extracting projection vector 20 out of 35\n",
      "Extracting projection vector 21 out of 35\n",
      "Extracting projection vector 22 out of 35\n",
      "Extracting projection vector 23 out of 35\n",
      "Extracting projection vector 24 out of 35\n",
      "Extracting projection vector 25 out of 35\n",
      "Extracting projection vector 26 out of 35\n",
      "Extracting projection vector 27 out of 35\n",
      "Extracting projection vector 28 out of 35\n",
      "Extracting projection vector 29 out of 35\n",
      "Extracting projection vector 30 out of 35\n",
      "Extracting projection vector 31 out of 35\n",
      "Extracting projection vector 32 out of 35\n",
      "Extracting projection vector 33 out of 35\n",
      "Extracting projection vector 34 out of 35\n",
      "Extracting projection vector 0 out of 35\n",
      "Extracting projection vector 1 out of 35\n",
      "Extracting projection vector 2 out of 35\n",
      "Extracting projection vector 3 out of 35\n"
     ]
    }
   ],
   "source": [
    "##probar con CCA que no hace bien calcCov\n",
    "prueba = MVA('PCA','l1','norm',1e-5)\n",
    "prueba.fit(RDD_labeled)"
   ]
  },
  {
   "cell_type": "code",
   "execution_count": null,
   "metadata": {
    "collapsed": true,
    "deletable": true,
    "editable": true
   },
   "outputs": [],
   "source": []
  }
 ],
 "metadata": {
  "kernelspec": {
   "display_name": "Python 2",
   "language": "python",
   "name": "python2"
  },
  "language_info": {
   "codemirror_mode": {
    "name": "ipython",
    "version": 2
   },
   "file_extension": ".py",
   "mimetype": "text/x-python",
   "name": "python",
   "nbconvert_exporter": "python",
   "pygments_lexer": "ipython2",
   "version": "2.7.13"
  },
  "name": "classMVA",
  "notebookId": 953418172802420
 },
 "nbformat": 4,
 "nbformat_minor": 0
}
