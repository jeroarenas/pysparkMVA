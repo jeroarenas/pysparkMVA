{
 "cells": [
  {
   "cell_type": "code",
   "execution_count": 20,
   "metadata": {
    "collapsed": false,
    "deletable": true,
    "editable": true
   },
   "outputs": [],
   "source": [
    "from classMVA import MVA\n",
    "import numpy as np\n",
    "import matplotlib.pyplot as plt"
   ]
  },
  {
   "cell_type": "code",
   "execution_count": 5,
   "metadata": {
    "collapsed": false,
    "deletable": true,
    "editable": true
   },
   "outputs": [
    {
     "name": "stdout",
     "output_type": "stream",
     "text": [
      "[[   0.     0.3    0. ]\n",
      " [   0.     0.     0. ]\n",
      " [   0.     0.     0. ]\n",
      " [   0.4    0.3    0. ]\n",
      " [   0.5    0.3  100. ]\n",
      " [   0.     0.     0. ]\n",
      " [   0.     0.     0. ]]\n"
     ]
    },
    {
     "data": {
      "image/png": "[encoded data removed]",
      "text/plain": [
       "<matplotlib.figure.Figure at 0x7f045ac30d10>"
      ]
     },
     "metadata": {},
     "output_type": "display_data"
    }
   ],
   "source": [
    "#X = np.random.randn(5000,10) * np.array([1,np.sqrt(0.1),1 , np.sqrt(0.5),np.sqrt(0.1),1e-4, np.sqrt(0.1), np.sqrt(0.01), 1e-4, 1e-4])\n",
    "X = np.random.randn(5000,7) * np.array([1, 1, np.sqrt(0.5), np.sqrt(0.1), np.sqrt(0.01), 1e-4, 1e-4])\n",
    "\n",
    "#Regression coefficients\n",
    "R = np.array([[0, 0.3, 0],[0, 0, 0],[0, 0, 0], [0.4, 0.3, 0], [0.5, 0.3, 100], [0, 0, 0], [0, 0, 0]])\n",
    "\n",
    "print R\n",
    "\n",
    "Y = X.dot(R) + np.sqrt(1e-3)*np.random.randn(5000,3)\n",
    "\n",
    "plt.imshow(X.T.dot(X), interpolation='none')\n",
    "plt.show()"
   ]
  },
  {
   "cell_type": "code",
   "execution_count": 6,
   "metadata": {
    "collapsed": false,
    "deletable": true,
    "editable": true
   },
   "outputs": [
    {
     "name": "stdout",
     "output_type": "stream",
     "text": [
      "[[ 1.   0.   0.   0.3  0.   0.   0. ]\n",
      " [ 0.   1.   0.   0.   0.   0.   0. ]\n",
      " [ 0.   0.   1.   0.   0.   0.8  0. ]\n",
      " [ 0.   0.   0.   1.   0.   0.   0. ]\n",
      " [ 0.   0.   0.   0.   1.   0.   0. ]\n",
      " [ 0.   0.   0.   0.   0.   1.   0. ]\n",
      " [ 0.   0.   0.   0.   0.   0.   1. ]]\n"
     ]
    },
    {
     "data": {
      "image/png": "[encoded data removed]",
      "text/plain": [
       "<matplotlib.figure.Figure at 0x7f04499e2910>"
      ]
     },
     "metadata": {},
     "output_type": "display_data"
    }
   ],
   "source": [
    "#Finally, we mix a little bit some coordinates:\n",
    "W = np.eye(7,7)\n",
    "W[0,3] = .3\n",
    "W[2,5] = .8\n",
    "print W\n",
    "X2 = X.dot(W)\n",
    "plt.imshow(X2.T.dot(X2), interpolation='none')\n",
    "plt.show()"
   ]
  },
  {
   "cell_type": "code",
   "execution_count": 7,
   "metadata": {
    "collapsed": false,
    "deletable": true,
    "editable": true
   },
   "outputs": [
    {
     "name": "stdout",
     "output_type": "stream",
     "text": [
      "5000\n",
      "5000\n",
      "5000\n",
      "[0.045698875841509085, -0.2749214092649969, -0.7400993307625362, -0.1067881766069237, -0.12066845488618275, -0.5920943072514083, -9.540219213437216e-06]\n",
      "[-0.12785929935094426, -0.07962630125749777, -12.021538198873998]\n",
      "([-0.12785929935094426, -0.07962630125749777, -12.021538198873998], [0.045698875841509085, -0.2749214092649969, -0.7400993307625362, -0.1067881766069237, -0.12066845488618275, -0.5920943072514083, -9.540219213437216e-06])\n"
     ]
    }
   ],
   "source": [
    "\n",
    "RDD_X = sc.parallelize(X2.tolist())\n",
    "RDD_Y = sc.parallelize(Y.tolist())\n",
    "\n",
    "RDD_labeled = RDD_Y.zip(RDD_X)\n",
    "\n",
    "print RDD_X.count()\n",
    "print RDD_Y.count()\n",
    "print RDD_labeled.count()\n",
    "\n",
    "print RDD_X.first()\n",
    "print RDD_Y.first()\n",
    "print RDD_labeled.first()\n"
   ]
  },
  {
   "cell_type": "code",
   "execution_count": 6,
   "metadata": {
    "collapsed": false,
    "deletable": true,
    "editable": true
   },
   "outputs": [
    {
     "ename": "NameError",
     "evalue": "name 'prueba' is not defined",
     "output_type": "error",
     "traceback": [
      "\u001b[0;31m---------------------------------------------------------------------------\u001b[0m",
      "\u001b[0;31mNameError\u001b[0m                                 Traceback (most recent call last)",
      "\u001b[0;32m<ipython-input-6-c37a3c3a315e>\u001b[0m in \u001b[0;36m<module>\u001b[0;34m()\u001b[0m\n\u001b[0;32m----> 1\u001b[0;31m \u001b[0mRDD_new\u001b[0m\u001b[0;34m=\u001b[0m\u001b[0mprueba\u001b[0m\u001b[0;34m.\u001b[0m\u001b[0mpredict\u001b[0m\u001b[0;34m(\u001b[0m\u001b[0mRDD_PCA\u001b[0m\u001b[0;34m)\u001b[0m\u001b[0;34m\u001b[0m\u001b[0m\n\u001b[0m",
      "\u001b[0;31mNameError\u001b[0m: name 'prueba' is not defined"
     ]
    }
   ],
   "source": [
    "RDD_new=prueba.predict(RDD_PCA)"
   ]
  },
  {
   "cell_type": "code",
   "execution_count": 24,
   "metadata": {
    "collapsed": false,
    "deletable": true,
    "editable": true
   },
   "outputs": [],
   "source": [
    "#PCA example\n",
    "prueba = MVA('PCA','l1','None',1e-5,7,0.0001,1e-3,100)\n",
    "RDD_PCA = RDD_labeled.map(lambda x: x[1])\n",
    "prueba.prepareData(RDD_PCA)\n",
    "prueba.normalizer()"
   ]
  },
  {
   "cell_type": "code",
   "execution_count": 9,
   "metadata": {
    "collapsed": false,
    "deletable": true,
    "editable": true
   },
   "outputs": [
    {
     "name": "stdout",
     "output_type": "stream",
     "text": [
      "PCA\n",
      "l1\n",
      "None\n",
      "1e-05\n",
      "11\n",
      "11\n",
      "[(DenseVector([0.9665, -0.3968, 0.3712, -0.2269, 0.5364, 0.4637, -0.0001, 0.1693, 0.0468, -0.0003, -0.0001]), DenseVector([0.9665, -0.3968, 0.3712, -0.2269, 0.5364, 0.4637, -0.0001, 0.1693, 0.0468, -0.0003, -0.0001])), (DenseVector([-0.103, 0.6867, -0.0617, 0.9475, 0.1796, -0.2456, 0.0002, 0.22, 0.1048, 0.0, -0.0]), DenseVector([-0.103, 0.6867, -0.0617, 0.9475, 0.1796, -0.2456, 0.0002, 0.22, 0.1048, 0.0, -0.0]))]\n",
      "[(DenseVector([0.9845, -0.395, 0.3947, -0.2201, 0.5287, 0.4858, -0.0001, 0.1674, 0.0456, -0.0003, -0.0001]), DenseVector([0.9845, -0.395, 0.3947, -0.2201, 0.5287, 0.4858, -0.0001, 0.1674, 0.0456, -0.0003, -0.0001])), (DenseVector([-0.085, 0.6885, -0.0381, 0.9543, 0.1719, -0.2236, 0.0002, 0.2182, 0.1037, 0.0, -0.0]), DenseVector([-0.085, 0.6885, -0.0381, 0.9543, 0.1719, -0.2236, 0.0002, 0.2182, 0.1037, 0.0, -0.0]))]\n",
      "<pyspark.mllib.feature.StandardScalerModel object at 0x7fdc980fbed0>\n",
      "None\n",
      "10\n"
     ]
    }
   ],
   "source": [
    "print prueba._typeMVA\n",
    "print prueba._typeReg\n",
    "print prueba._typeNorm\n",
    "print prueba._tol\n",
    "print prueba._numVariables\n",
    "print prueba._M\n",
    "print prueba._data.take(2)\n",
    "print prueba._normdata.take(2)\n",
    "print prueba._scaler\n",
    "print prueba._U\n",
    "print prueba._max_Ustep"
   ]
  },
  {
   "cell_type": "code",
   "execution_count": null,
   "metadata": {
    "collapsed": false,
    "deletable": true,
    "editable": true
   },
   "outputs": [],
   "source": []
  },
  {
   "cell_type": "code",
   "execution_count": 28,
   "metadata": {
    "collapsed": false,
    "deletable": true,
    "editable": true
   },
   "outputs": [
    {
     "name": "stdout",
     "output_type": "stream",
     "text": [
      "You have to fit the model first\n",
      "time.struct_time(tm_year=2017, tm_mon=6, tm_mday=15, tm_hour=21, tm_min=53, tm_sec=45, tm_wday=3, tm_yday=166, tm_isdst=1)\n",
      "time.struct_time(tm_year=2017, tm_mon=6, tm_mday=15, tm_hour=21, tm_min=53, tm_sec=45, tm_wday=3, tm_yday=166, tm_isdst=1)\n"
     ]
    }
   ],
   "source": [
    "#RDD_NEW= RDD_PCA.map(lambda x: x.dot(((self._U).T))).collect()\n",
    "import time \n",
    "init=time.localtime( time.time() )\n",
    "prueba.predict(RDD_PCA)\n",
    "end=time.localtime( time.time() )\n",
    "print init\n",
    "print end\n",
    "\n",
    "#print RDD_NEW.count()"
   ]
  },
  {
   "cell_type": "code",
   "execution_count": 30,
   "metadata": {
    "collapsed": false,
    "deletable": true,
    "editable": true
   },
   "outputs": [
    {
     "name": "stdout",
     "output_type": "stream",
     "text": [
      "INIT TIME FOR 0 component time.struct_time(tm_year=2017, tm_mon=6, tm_mday=15, tm_hour=21, tm_min=55, tm_sec=26, tm_wday=3, tm_yday=166, tm_isdst=1)\n",
      "(1, 7)\n",
      "(7, 7)\n",
      "(7, 7)\n",
      "Extracting projection vector 0 out of 1\n",
      "(1, 7)\n",
      "(7, 7)\n",
      "(7, 7)\n",
      "Extracting projection vector 0 out of 1\n",
      "Frobenius norm error: 0.000225534265065\n",
      "(1, 7)\n",
      "(7, 7)\n",
      "(7, 7)\n",
      "Extracting projection vector 0 out of 1\n",
      "Frobenius norm error: 0.000195744200273\n",
      "(1, 7)\n",
      "(7, 7)\n",
      "(7, 7)\n",
      "Extracting projection vector 0 out of 1\n",
      "Frobenius norm error: 0.00016692256526\n",
      "(1, 7)\n",
      "(7, 7)\n",
      "(7, 7)\n",
      "Extracting projection vector 0 out of 1\n",
      "Frobenius norm error: 0.000140525987527\n",
      "(1, 7)\n",
      "(7, 7)\n",
      "(7, 7)\n",
      "Extracting projection vector 0 out of 1\n",
      "Frobenius norm error: 0.000117153126426\n",
      "(1, 7)\n",
      "(7, 7)\n",
      "(7, 7)\n",
      "Extracting projection vector 0 out of 1\n",
      "Frobenius norm error: 9.69480422268e-05\n",
      "(1, 7)\n",
      "(7, 7)\n",
      "(7, 7)\n",
      "Extracting projection vector 0 out of 1\n",
      "Frobenius norm error: 7.83040354239e-05\n",
      "(1, 7)\n",
      "(7, 7)\n",
      "(7, 7)\n",
      "Extracting projection vector 0 out of 1\n",
      "Frobenius norm error: 6.44018531598e-05\n",
      "(1, 7)\n",
      "(7, 7)\n",
      "(7, 7)\n",
      "Extracting projection vector 0 out of 1\n",
      "Frobenius norm error: 5.27904694181e-05\n",
      "(1, 7)\n",
      "(7, 7)\n",
      "(7, 7)\n",
      "Extracting projection vector 0 out of 1\n",
      "You have reach the max number of U step, change the tolerance\n",
      "Frobenius norm error: 4.31428190593e-05\n",
      "END TIME FOR 0 component time.struct_time(tm_year=2017, tm_mon=6, tm_mday=15, tm_hour=21, tm_min=55, tm_sec=52, tm_wday=3, tm_yday=166, tm_isdst=1)\n",
      "\n",
      "INIT TIME FOR 1 component time.struct_time(tm_year=2017, tm_mon=6, tm_mday=15, tm_hour=21, tm_min=55, tm_sec=52, tm_wday=3, tm_yday=166, tm_isdst=1)\n",
      "(2, 7)\n",
      "(7, 7)\n",
      "(7, 7)\n",
      "Extracting projection vector 0 out of 2\n",
      "Extracting projection vector 1 out of 2\n",
      "(2, 7)\n",
      "(7, 7)\n",
      "(7, 7)\n",
      "Extracting projection vector 0 out of 2\n",
      "Extracting projection vector 1 out of 2\n",
      "Frobenius norm error: 0.000487112223927\n",
      "(2, 7)\n",
      "(7, 7)\n",
      "(7, 7)\n",
      "Extracting projection vector 0 out of 2\n",
      "Extracting projection vector 1 out of 2\n",
      "Frobenius norm error: 0.000369814168081\n",
      "(2, 7)\n",
      "(7, 7)\n",
      "(7, 7)\n",
      "Extracting projection vector 0 out of 2\n",
      "Extracting projection vector 1 out of 2\n",
      "Frobenius norm error: 0.00019022064368\n",
      "(2, 7)\n",
      "(7, 7)\n",
      "(7, 7)\n",
      "Extracting projection vector 0 out of 2\n",
      "Extracting projection vector 1 out of 2\n",
      "Frobenius norm error: 0.000116499341086\n",
      "(2, 7)\n",
      "(7, 7)\n",
      "(7, 7)\n",
      "Extracting projection vector 0 out of 2\n",
      "Extracting projection vector 1 out of 2\n",
      "Frobenius norm error: 7.42873317997e-05\n",
      "(2, 7)\n",
      "(7, 7)\n",
      "(7, 7)\n",
      "Extracting projection vector 0 out of 2\n",
      "Extracting projection vector 1 out of 2\n",
      "Frobenius norm error: 4.69144313326e-05\n",
      "(2, 7)\n",
      "(7, 7)\n",
      "(7, 7)\n",
      "Extracting projection vector 0 out of 2\n",
      "Extracting projection vector 1 out of 2\n",
      "Frobenius norm error: 2.95776222557e-05\n",
      "(2, 7)\n",
      "(7, 7)\n",
      "(7, 7)\n",
      "Extracting projection vector 0 out of 2\n",
      "Extracting projection vector 1 out of 2\n",
      "Frobenius norm error: 4.12906851391e-06\n",
      "END TIME FOR 1 component time.struct_time(tm_year=2017, tm_mon=6, tm_mday=15, tm_hour=21, tm_min=56, tm_sec=34, tm_wday=3, tm_yday=166, tm_isdst=1)\n",
      "\n",
      "INIT TIME FOR 2 component time.struct_time(tm_year=2017, tm_mon=6, tm_mday=15, tm_hour=21, tm_min=56, tm_sec=34, tm_wday=3, tm_yday=166, tm_isdst=1)\n",
      "(3, 7)\n",
      "(7, 7)\n",
      "(7, 7)\n",
      "Extracting projection vector 0 out of 3\n",
      "Extracting projection vector 1 out of 3\n",
      "Extracting projection vector 2 out of 3\n",
      "(3, 7)\n",
      "(7, 7)\n",
      "(7, 7)\n",
      "Extracting projection vector 0 out of 3\n",
      "Extracting projection vector 1 out of 3\n",
      "Extracting projection vector 2 out of 3\n",
      "Frobenius norm error: 0.00433427630475\n",
      "(3, 7)\n",
      "(7, 7)\n",
      "(7, 7)\n",
      "Extracting projection vector 0 out of 3\n",
      "Extracting projection vector 1 out of 3\n",
      "Extracting projection vector 2 out of 3\n",
      "Frobenius norm error: 0.00431424432701\n",
      "(3, 7)\n",
      "(7, 7)\n",
      "(7, 7)\n",
      "Extracting projection vector 0 out of 3\n",
      "Extracting projection vector 1 out of 3\n",
      "Extracting projection vector 2 out of 3\n",
      "Frobenius norm error: 1.16221239665e-05\n",
      "(3, 7)\n",
      "(7, 7)\n",
      "(7, 7)\n",
      "Extracting projection vector 0 out of 3\n",
      "Extracting projection vector 1 out of 3\n",
      "Extracting projection vector 2 out of 3\n",
      "Frobenius norm error: 1.3349083901e-07\n",
      "END TIME FOR 2 component time.struct_time(tm_year=2017, tm_mon=6, tm_mday=15, tm_hour=21, tm_min=57, tm_sec=8, tm_wday=3, tm_yday=166, tm_isdst=1)\n",
      "\n",
      "INIT TIME FOR 3 component time.struct_time(tm_year=2017, tm_mon=6, tm_mday=15, tm_hour=21, tm_min=57, tm_sec=8, tm_wday=3, tm_yday=166, tm_isdst=1)\n",
      "(4, 7)\n",
      "(7, 7)\n",
      "(7, 7)\n",
      "Extracting projection vector 0 out of 4\n",
      "Extracting projection vector 1 out of 4\n",
      "Extracting projection vector 2 out of 4\n",
      "Extracting projection vector 3 out of 4\n",
      "(4, 7)\n",
      "(7, 7)\n",
      "(7, 7)\n",
      "Extracting projection vector 0 out of 4\n",
      "Extracting projection vector 1 out of 4\n",
      "Extracting projection vector 2 out of 4\n",
      "Extracting projection vector 3 out of 4\n",
      "Frobenius norm error: 0.00196801698141\n",
      "(4, 7)\n",
      "(7, 7)\n",
      "(7, 7)\n",
      "Extracting projection vector 0 out of 4\n",
      "Extracting projection vector 1 out of 4\n",
      "Extracting projection vector 2 out of 4\n",
      "Extracting projection vector 3 out of 4\n",
      "Frobenius norm error: 0.00101857547391\n",
      "(4, 7)\n",
      "(7, 7)\n",
      "(7, 7)\n",
      "Extracting projection vector 0 out of 4\n",
      "Extracting projection vector 1 out of 4\n",
      "Extracting projection vector 2 out of 4\n",
      "Extracting projection vector 3 out of 4\n",
      "Frobenius norm error: 1.5283497882e-05\n",
      "(4, 7)\n",
      "(7, 7)\n",
      "(7, 7)\n",
      "Extracting projection vector 0 out of 4\n",
      "Extracting projection vector 1 out of 4\n",
      "Extracting projection vector 2 out of 4\n",
      "Extracting projection vector 3 out of 4\n",
      "Frobenius norm error: 1.6187306354e-07\n",
      "END TIME FOR 3 component time.struct_time(tm_year=2017, tm_mon=6, tm_mday=15, tm_hour=21, tm_min=57, tm_sec=54, tm_wday=3, tm_yday=166, tm_isdst=1)\n",
      "\n",
      "INIT TIME FOR 4 component time.struct_time(tm_year=2017, tm_mon=6, tm_mday=15, tm_hour=21, tm_min=57, tm_sec=54, tm_wday=3, tm_yday=166, tm_isdst=1)\n",
      "(5, 7)\n",
      "(7, 7)\n",
      "(7, 7)\n",
      "Extracting projection vector 0 out of 5\n",
      "Extracting projection vector 1 out of 5\n",
      "Extracting projection vector 2 out of 5\n",
      "Extracting projection vector 3 out of 5\n",
      "Extracting projection vector 4 out of 5\n",
      "(5, 7)\n",
      "(7, 7)\n",
      "(7, 7)\n",
      "Extracting projection vector 0 out of 5\n",
      "Extracting projection vector 1 out of 5\n",
      "Extracting projection vector 2 out of 5\n",
      "Extracting projection vector 3 out of 5\n",
      "Extracting projection vector 4 out of 5\n",
      "Frobenius norm error: 0.00290650956326\n",
      "(5, 7)\n",
      "(7, 7)\n",
      "(7, 7)\n",
      "Extracting projection vector 0 out of 5\n",
      "Extracting projection vector 1 out of 5\n",
      "Extracting projection vector 2 out of 5\n",
      "Extracting projection vector 3 out of 5\n",
      "Extracting projection vector 4 out of 5\n",
      "Frobenius norm error: 2.44845392964e-05\n",
      "(5, 7)\n",
      "(7, 7)\n",
      "(7, 7)\n",
      "Extracting projection vector 0 out of 5\n",
      "Extracting projection vector 1 out of 5\n",
      "Extracting projection vector 2 out of 5\n",
      "Extracting projection vector 3 out of 5\n",
      "Extracting projection vector 4 out of 5\n",
      "Frobenius norm error: 3.37449059147e-07\n",
      "END TIME FOR 4 component time.struct_time(tm_year=2017, tm_mon=6, tm_mday=15, tm_hour=21, tm_min=58, tm_sec=44, tm_wday=3, tm_yday=166, tm_isdst=1)\n",
      "\n",
      "INIT TIME FOR 5 component time.struct_time(tm_year=2017, tm_mon=6, tm_mday=15, tm_hour=21, tm_min=58, tm_sec=44, tm_wday=3, tm_yday=166, tm_isdst=1)\n",
      "(6, 7)\n",
      "(7, 7)\n",
      "(7, 7)\n",
      "Extracting projection vector 0 out of 6\n",
      "Extracting projection vector 1 out of 6\n",
      "Extracting projection vector 2 out of 6\n",
      "Extracting projection vector 3 out of 6\n",
      "Extracting projection vector 4 out of 6\n",
      "Extracting projection vector 5 out of 6\n",
      "(6, 7)\n",
      "(7, 7)\n",
      "(7, 7)\n",
      "Extracting projection vector 0 out of 6\n",
      "Extracting projection vector 1 out of 6\n",
      "Extracting projection vector 2 out of 6\n",
      "Extracting projection vector 3 out of 6\n",
      "Extracting projection vector 4 out of 6\n",
      "Extracting projection vector 5 out of 6\n",
      "Frobenius norm error: 0.00339428497197\n",
      "(6, 7)\n",
      "(7, 7)\n",
      "(7, 7)\n",
      "Extracting projection vector 0 out of 6\n",
      "Extracting projection vector 1 out of 6\n",
      "Extracting projection vector 2 out of 6\n",
      "Extracting projection vector 3 out of 6\n",
      "Extracting projection vector 4 out of 6\n",
      "Extracting projection vector 5 out of 6\n",
      "Frobenius norm error: 5.04860202187e-05\n",
      "(6, 7)\n",
      "(7, 7)\n",
      "(7, 7)\n",
      "Extracting projection vector 0 out of 6\n",
      "Extracting projection vector 1 out of 6\n",
      "Extracting projection vector 2 out of 6\n",
      "Extracting projection vector 3 out of 6\n",
      "Extracting projection vector 4 out of 6\n",
      "Extracting projection vector 5 out of 6\n",
      "Frobenius norm error: 1.34759703226e-06\n",
      "END TIME FOR 5 component time.struct_time(tm_year=2017, tm_mon=6, tm_mday=15, tm_hour=21, tm_min=59, tm_sec=51, tm_wday=3, tm_yday=166, tm_isdst=1)\n",
      "\n",
      "INIT TIME FOR 6 component time.struct_time(tm_year=2017, tm_mon=6, tm_mday=15, tm_hour=21, tm_min=59, tm_sec=51, tm_wday=3, tm_yday=166, tm_isdst=1)\n",
      "(6, 7)\n",
      "(7, 7)\n",
      "(7, 7)\n",
      "Extracting projection vector 0 out of 6\n",
      "Extracting projection vector 1 out of 6\n",
      "Extracting projection vector 2 out of 6\n",
      "Extracting projection vector 3 out of 6\n",
      "Extracting projection vector 4 out of 6\n",
      "Extracting projection vector 5 out of 6\n",
      "(6, 7)\n",
      "(7, 7)\n",
      "(7, 7)\n",
      "Extracting projection vector 0 out of 6\n",
      "Extracting projection vector 1 out of 6\n",
      "Extracting projection vector 2 out of 6\n",
      "Extracting projection vector 3 out of 6\n",
      "Extracting projection vector 4 out of 6\n",
      "Extracting projection vector 5 out of 6\n",
      "Frobenius norm error: 0.000215632836028\n",
      "(6, 7)\n",
      "(7, 7)\n",
      "(7, 7)\n",
      "Extracting projection vector 0 out of 6\n",
      "Extracting projection vector 1 out of 6\n",
      "Extracting projection vector 2 out of 6\n",
      "Extracting projection vector 3 out of 6\n",
      "Extracting projection vector 4 out of 6\n",
      "Extracting projection vector 5 out of 6\n",
      "Frobenius norm error: 1.17402085444e-05\n",
      "(6, 7)\n",
      "(7, 7)\n",
      "(7, 7)\n",
      "Extracting projection vector 0 out of 6\n",
      "Extracting projection vector 1 out of 6\n",
      "Extracting projection vector 2 out of 6\n",
      "Extracting projection vector 3 out of 6\n",
      "Extracting projection vector 4 out of 6\n",
      "Extracting projection vector 5 out of 6\n",
      "Frobenius norm error: 9.08076695493e-08\n",
      "END TIME FOR 6 component time.struct_time(tm_year=2017, tm_mon=6, tm_mday=15, tm_hour=22, tm_min=0, tm_sec=59, tm_wday=3, tm_yday=166, tm_isdst=1)\n",
      "\n",
      "[[ -1.71792868e-03  -0.00000000e+00  -0.00000000e+00  -5.62698305e-04\n",
      "   -0.00000000e+00  -0.00000000e+00   0.00000000e+00]\n",
      " [  0.00000000e+00  -1.62216982e-03  -3.26184626e-05   0.00000000e+00\n",
      "   -0.00000000e+00  -2.26803953e-05   0.00000000e+00]\n",
      " [  0.00000000e+00   3.48947218e-05  -1.11080361e-03  -0.00000000e+00\n",
      "    0.00000000e+00  -8.85230097e-04  -0.00000000e+00]\n",
      " [  2.89674667e-05  -0.00000000e+00  -0.00000000e+00  -1.24319253e-04\n",
      "   -0.00000000e+00  -0.00000000e+00   0.00000000e+00]\n",
      " [ -0.00000000e+00  -0.00000000e+00  -0.00000000e+00  -0.00000000e+00\n",
      "    0.00000000e+00   0.00000000e+00  -0.00000000e+00]\n",
      " [ -0.00000000e+00  -0.00000000e+00  -0.00000000e+00  -0.00000000e+00\n",
      "    0.00000000e+00  -0.00000000e+00   0.00000000e+00]]\n"
     ]
    }
   ],
   "source": [
    "#ESCALABILIDAD\n",
    "#self, typeMVA, typeReg,typeNorm, tol, regParam=0.01, step=1e-3, iterations=100, max_Ustep=10):\n",
    "import time \n",
    "#print time.localtime( time.time() )\n",
    "resta=0\n",
    "for i in range(7):\n",
    "    prueba = MVA('PCA','l1','None',1e-5,i+1,0.01,1e-3,100)\n",
    "    print 'INIT TIME FOR ' + str(i) + ' component ' + str(time.localtime( time.time() ))\n",
    "    prueba.fit(RDD_PCA)\n",
    "    print 'END TIME FOR ' + str(i) + ' component ' + str(time.localtime( time.time() ))\n",
    "    #W=prueba._W\n",
    "    #U=prueba._U\n",
    "    #mse=RDD_PCA.map(lambda x: np.mean(np.array(x - np.dot(W,np.dot(x, U.T)))**2)).mean()\n",
    "    print \n",
    "\n",
    "print prueba._U"
   ]
  },
  {
   "cell_type": "code",
   "execution_count": 36,
   "metadata": {
    "collapsed": false,
    "deletable": true,
    "editable": true
   },
   "outputs": [
    {
     "ename": "TypeError",
     "evalue": "'module' object is not callable",
     "output_type": "error",
     "traceback": [
      "\u001b[0;31m---------------------------------------------------------------------------\u001b[0m",
      "\u001b[0;31mTypeError\u001b[0m                                 Traceback (most recent call last)",
      "\u001b[0;32m<ipython-input-36-be7badbb870e>\u001b[0m in \u001b[0;36m<module>\u001b[0;34m()\u001b[0m\n\u001b[1;32m      3\u001b[0m \u001b[0;32mfor\u001b[0m \u001b[0mi\u001b[0m \u001b[0;32min\u001b[0m \u001b[0mrange\u001b[0m\u001b[0;34m(\u001b[0m\u001b[0;36m6\u001b[0m\u001b[0;34m)\u001b[0m\u001b[0;34m:\u001b[0m\u001b[0;34m\u001b[0m\u001b[0m\n\u001b[1;32m      4\u001b[0m     \u001b[0mpca\u001b[0m \u001b[0;34m=\u001b[0m \u001b[0mdecomposition\u001b[0m\u001b[0;34m.\u001b[0m\u001b[0mPCA\u001b[0m\u001b[0;34m(\u001b[0m\u001b[0mn_components\u001b[0m\u001b[0;34m=\u001b[0m\u001b[0mi\u001b[0m\u001b[0;34m+\u001b[0m\u001b[0;36m1\u001b[0m\u001b[0;34m)\u001b[0m\u001b[0;34m\u001b[0m\u001b[0m\n\u001b[0;32m----> 5\u001b[0;31m     \u001b[0;32mprint\u001b[0m \u001b[0;34m'INIT TIME FOR '\u001b[0m \u001b[0;34m+\u001b[0m \u001b[0mstr\u001b[0m\u001b[0;34m(\u001b[0m\u001b[0mi\u001b[0m\u001b[0;34m)\u001b[0m \u001b[0;34m+\u001b[0m \u001b[0;34m' component '\u001b[0m \u001b[0;34m+\u001b[0m \u001b[0mstr\u001b[0m\u001b[0;34m(\u001b[0m\u001b[0mtime\u001b[0m\u001b[0;34m(\u001b[0m\u001b[0;34m)\u001b[0m\u001b[0;34m)\u001b[0m\u001b[0;34m\u001b[0m\u001b[0m\n\u001b[0m\u001b[1;32m      6\u001b[0m     \u001b[0mpca\u001b[0m\u001b[0;34m.\u001b[0m\u001b[0mfit\u001b[0m\u001b[0;34m(\u001b[0m\u001b[0mRDD_PCA\u001b[0m\u001b[0;34m.\u001b[0m\u001b[0mcollect\u001b[0m\u001b[0;34m(\u001b[0m\u001b[0;34m)\u001b[0m\u001b[0;34m)\u001b[0m\u001b[0;34m\u001b[0m\u001b[0m\n\u001b[1;32m      7\u001b[0m     \u001b[0;32mprint\u001b[0m \u001b[0;34m'END TIME FOR '\u001b[0m \u001b[0;34m+\u001b[0m \u001b[0mstr\u001b[0m\u001b[0;34m(\u001b[0m\u001b[0mi\u001b[0m\u001b[0;34m)\u001b[0m \u001b[0;34m+\u001b[0m \u001b[0;34m' component '\u001b[0m \u001b[0;34m+\u001b[0m \u001b[0mstr\u001b[0m\u001b[0;34m(\u001b[0m\u001b[0mtime\u001b[0m\u001b[0;34m(\u001b[0m\u001b[0;34m)\u001b[0m\u001b[0;34m)\u001b[0m\u001b[0;34m\u001b[0m\u001b[0m\n",
      "\u001b[0;31mTypeError\u001b[0m: 'module' object is not callable"
     ]
    }
   ],
   "source": [
    "#ESCALABILIDAD\n",
    "from sklearn import preprocessing\n",
    "from sklearn import decomposition \n",
    "for i in range(6):\n",
    "    pca = decomposition.PCA(n_components=i+1)\n",
    "    print 'INIT TIME FOR ' + str(i) + ' component ' + str(time())\n",
    "    pca.fit(RDD_PCA.collect())\n",
    "    print 'END TIME FOR ' + str(i) + ' component ' + str(time())\n",
    "    #W=prueba._W\n",
    "    #U=prueba._U\n",
    "    #mse=RDD_PCA.map(lambda x: np.mean(np.array(x - np.dot(W,np.dot(x, U.T)))**2)).mean()"
   ]
  },
  {
   "cell_type": "code",
   "execution_count": null,
   "metadata": {
    "collapsed": false,
    "deletable": true,
    "editable": true
   },
   "outputs": [],
   "source": [
    "from sklearn import preprocessing\n",
    "\n",
    "plt.imshow(np.abs(preprocessing.normalize(prueba._U, norm='l2')), interpolation='none')\n",
    "plt.show()\n"
   ]
  },
  {
   "cell_type": "code",
   "execution_count": 34,
   "metadata": {
    "collapsed": false,
    "deletable": true,
    "editable": true
   },
   "outputs": [
    {
     "data": {
      "image/png": "[encoded data removed]",
      "text/plain": [
       "<matplotlib.figure.Figure at 0x7fdcdab96710>"
      ]
     },
     "metadata": {},
     "output_type": "display_data"
    }
   ],
   "source": [
    "from sklearn import decomposition\n",
    "pca = decomposition.PCA(n_components=6)\n",
    "pca.fit(RDD_PCA.collect())\n",
    "plt.imshow(np.abs(pca.components_), interpolation='none')\n",
    "plt.show()"
   ]
  },
  {
   "cell_type": "code",
   "execution_count": null,
   "metadata": {
    "collapsed": false,
    "deletable": true,
    "editable": true
   },
   "outputs": [],
   "source": [
    "prueba = MVA('PCA','l1','None',1e-5,7,0.0001,1e-2,100)\n",
    "prueba.fit(RDD_PCA)"
   ]
  },
  {
   "cell_type": "code",
   "execution_count": null,
   "metadata": {
    "collapsed": false,
    "deletable": true,
    "editable": true
   },
   "outputs": [],
   "source": [
    "\n",
    "plt.imshow(np.abs(preprocessing.normalize(prueba._U, norm='l2')), interpolation='none')\n",
    "plt.show()"
   ]
  },
  {
   "cell_type": "code",
   "execution_count": null,
   "metadata": {
    "collapsed": false,
    "deletable": true,
    "editable": true
   },
   "outputs": [],
   "source": [
    "prueba = MVA('PCA','l1','None',1e-5,7,0.01,1e-2,100)\n",
    "prueba.fit(RDD_PCA)"
   ]
  },
  {
   "cell_type": "code",
   "execution_count": null,
   "metadata": {
    "collapsed": false,
    "deletable": true,
    "editable": true
   },
   "outputs": [],
   "source": [
    "plt.imshow(np.abs(preprocessing.normalize(prueba._U, norm='l2')), interpolation='none')\n",
    "plt.show()"
   ]
  },
  {
   "cell_type": "code",
   "execution_count": null,
   "metadata": {
    "collapsed": false,
    "deletable": true,
    "editable": true
   },
   "outputs": [],
   "source": [
    "plt.plot(np.abs(preprocessing.normalize(prueba._U, norm='l2')).T)\n",
    "plt.show()"
   ]
  },
  {
   "cell_type": "code",
   "execution_count": null,
   "metadata": {
    "collapsed": false,
    "deletable": true,
    "editable": true
   },
   "outputs": [],
   "source": [
    "plt.plot(abs(pca.components_.T))\n",
    "plt.show()"
   ]
  },
  {
   "cell_type": "code",
   "execution_count": null,
   "metadata": {
    "collapsed": false,
    "deletable": true,
    "editable": true
   },
   "outputs": [],
   "source": [
    "prueba = MVA('PCA','l1','None',1e-5,7,0.5,1e-3,100)\n",
    "prueba.fit(RDD_PCA)"
   ]
  },
  {
   "cell_type": "code",
   "execution_count": null,
   "metadata": {
    "collapsed": false,
    "deletable": true,
    "editable": true
   },
   "outputs": [],
   "source": [
    "plt.imshow(np.abs(preprocessing.normalize(prueba._U, norm='l2')), interpolation='none')\n",
    "plt.show()"
   ]
  },
  {
   "cell_type": "code",
   "execution_count": 8,
   "metadata": {
    "collapsed": false,
    "deletable": true,
    "editable": true
   },
   "outputs": [
    {
     "name": "stdout",
     "output_type": "stream",
     "text": [
      "(2, 7)\n",
      "(3, 7)\n",
      "(3, 3)\n",
      "Extracting projection vector 0 out of 2\n",
      "Extracting projection vector 1 out of 2\n",
      "(2, 7)\n",
      "(3, 7)\n",
      "(3, 3)\n",
      "Extracting projection vector 0 out of 2\n",
      "Extracting projection vector 1 out of 2\n",
      "Frobenius norm error: 0.155565315666\n",
      "(2, 7)\n",
      "(3, 7)\n",
      "(3, 3)\n",
      "Extracting projection vector 0 out of 2\n",
      "Extracting projection vector 1 out of 2\n",
      "Frobenius norm error: 3.84585631194e-05\n",
      "(2, 7)\n",
      "(3, 7)\n",
      "(3, 3)\n",
      "Extracting projection vector 0 out of 2\n",
      "Extracting projection vector 1 out of 2\n",
      "Frobenius norm error: 3.28162005741e-07\n"
     ]
    }
   ],
   "source": [
    "#self, typeMVA, typeReg,typeNorm, tol, regParam=0.01, step=1e-3, iterations=100, max_Ustep=10):\n",
    "prueba = MVA('OPLS','l1','norm',1e-5,7)\n",
    "prueba.fit(RDD_labeled)"
   ]
  },
  {
   "cell_type": "code",
   "execution_count": 15,
   "metadata": {
    "collapsed": false,
    "deletable": true,
    "editable": true
   },
   "outputs": [
    {
     "data": {
      "image/png": "[encoded data removed]",
      "text/plain": [
       "<matplotlib.figure.Figure at 0x7f2e5825e090>"
      ]
     },
     "metadata": {},
     "output_type": "display_data"
    },
    {
     "name": "stdout",
     "output_type": "stream",
     "text": [
      "[[  2.24593212e-03  -8.81240475e-04   2.57255317e-03   1.66325309e-03\n",
      "   -1.88032423e-01   2.57234249e-03   2.62793052e-03]\n",
      " [ -4.84465550e-04  -0.00000000e+00  -0.00000000e+00  -4.60556284e-04\n",
      "   -5.85207310e-05  -0.00000000e+00  -0.00000000e+00]]\n"
     ]
    }
   ],
   "source": [
    "\n",
    "plt.imshow(np.abs(prueba._U), interpolation='none')\n",
    "plt.show()\n",
    "print prueba._U"
   ]
  },
  {
   "cell_type": "code",
   "execution_count": 14,
   "metadata": {
    "collapsed": false,
    "deletable": true,
    "editable": true
   },
   "outputs": [
    {
     "data": {
      "image/png": "[encoded data removed]",
      "text/plain": [
       "<matplotlib.figure.Figure at 0x7f04400c02d0>"
      ]
     },
     "metadata": {},
     "output_type": "display_data"
    }
   ],
   "source": [
    "from classMVA import MVA\n",
    "import numpy as np\n",
    "import matplotlib.pyplot as plt\n",
    "\n",
    "\n",
    "plt.plot(abs(prueba._U.T[:,0]))\n",
    "plt.xlabel('k', fontsize=14)\n",
    "plt.ylabel('U(k)', fontsize=14)\n",
    "\n",
    "\n",
    "plt.show()"
   ]
  },
  {
   "cell_type": "code",
   "execution_count": 19,
   "metadata": {
    "collapsed": false,
    "deletable": true,
    "editable": true
   },
   "outputs": [
    {
     "name": "stdout",
     "output_type": "stream",
     "text": [
      "(1, 10)\n",
      "(10, 10)\n",
      "(10, 10)\n",
      "Extracting projection vector 0 out of 1\n",
      "(1, 10)\n",
      "(10, 10)\n",
      "(10, 10)\n",
      "Extracting projection vector 0 out of 1\n",
      "Frobenius norm error: 0.00040001193935\n",
      "(1, 10)\n",
      "(10, 10)\n",
      "(10, 10)\n",
      "Extracting projection vector 0 out of 1\n",
      "Frobenius norm error: 0.000203905232433\n",
      "(1, 10)\n",
      "(10, 10)\n",
      "(10, 10)\n",
      "Extracting projection vector 0 out of 1\n",
      "Frobenius norm error: 0.000360207781747\n",
      "(1, 10)\n",
      "(10, 10)\n",
      "(10, 10)\n",
      "Extracting projection vector 0 out of 1\n",
      "Frobenius norm error: 0.000590234829677\n",
      "(1, 10)\n",
      "(10, 10)\n",
      "(10, 10)\n",
      "Extracting projection vector 0 out of 1\n",
      "Frobenius norm error: 0.000750278521701\n",
      "(1, 10)\n",
      "(10, 10)\n",
      "(10, 10)\n",
      "Extracting projection vector 0 out of 1\n",
      "Frobenius norm error: 0.00128397904579\n",
      "(1, 10)\n",
      "(10, 10)\n",
      "(10, 10)\n",
      "Extracting projection vector 0 out of 1\n",
      "Frobenius norm error: 0.000561593663504\n",
      "(1, 10)\n",
      "(10, 10)\n",
      "(10, 10)\n",
      "Extracting projection vector 0 out of 1\n",
      "Frobenius norm error: 0.000315757400354\n",
      "(1, 10)\n",
      "(10, 10)\n",
      "(10, 10)\n",
      "Extracting projection vector 0 out of 1\n",
      "Frobenius norm error: 0.000170406298707\n",
      "(1, 10)\n",
      "(10, 10)\n",
      "(10, 10)\n",
      "Extracting projection vector 0 out of 1\n",
      "You have reach the max number of U step, change the tolerance\n",
      "Frobenius norm error: 9.0964827004e-05\n",
      "0.350276494531\n",
      "(2, 10)\n",
      "(10, 10)\n",
      "(10, 10)\n",
      "Extracting projection vector 0 out of 2\n",
      "Extracting projection vector 1 out of 2\n",
      "0.349818308585\n",
      "(3, 10)\n",
      "(10, 10)\n",
      "(10, 10)\n",
      "Extracting projection vector 0 out of 3\n",
      "Extracting projection vector 1 out of 3\n",
      "Extracting projection vector 2 out of 3\n",
      "0.349755599421\n",
      "(4, 10)\n",
      "(10, 10)\n",
      "(10, 10)\n",
      "Extracting projection vector 0 out of 4\n",
      "Extracting projection vector 1 out of 4\n",
      "Extracting projection vector 2 out of 4\n",
      "Extracting projection vector 3 out of 4\n",
      "0.349752746974\n",
      "(5, 10)\n",
      "(10, 10)\n",
      "(10, 10)\n"
     ]
    },
    {
     "ename": "LinAlgError",
     "evalue": "SVD did not converge",
     "output_type": "error",
     "traceback": [
      "\u001b[0;31m---------------------------------------------------------------------------\u001b[0m",
      "\u001b[0;31mLinAlgError\u001b[0m                               Traceback (most recent call last)",
      "\u001b[0;32m<ipython-input-19-7bc7a4a9d57e>\u001b[0m in \u001b[0;36m<module>\u001b[0;34m()\u001b[0m\n\u001b[1;32m      2\u001b[0m \u001b[0;32mfor\u001b[0m \u001b[0mi\u001b[0m \u001b[0;32min\u001b[0m \u001b[0mrange\u001b[0m\u001b[0;34m(\u001b[0m\u001b[0;36m10\u001b[0m\u001b[0;34m)\u001b[0m\u001b[0;34m:\u001b[0m\u001b[0;34m\u001b[0m\u001b[0m\n\u001b[1;32m      3\u001b[0m     \u001b[0mprueba\u001b[0m \u001b[0;34m=\u001b[0m \u001b[0mMVA\u001b[0m\u001b[0;34m(\u001b[0m\u001b[0;34m'PCA'\u001b[0m\u001b[0;34m,\u001b[0m\u001b[0;34m'l1'\u001b[0m\u001b[0;34m,\u001b[0m\u001b[0;34m'None'\u001b[0m\u001b[0;34m,\u001b[0m\u001b[0;36m1e-5\u001b[0m\u001b[0;34m,\u001b[0m\u001b[0mi\u001b[0m\u001b[0;34m+\u001b[0m\u001b[0;36m1\u001b[0m\u001b[0;34m,\u001b[0m\u001b[0;36m0.01\u001b[0m\u001b[0;34m,\u001b[0m\u001b[0;36m1e-3\u001b[0m\u001b[0;34m,\u001b[0m\u001b[0;36m100\u001b[0m\u001b[0;34m)\u001b[0m\u001b[0;34m\u001b[0m\u001b[0m\n\u001b[0;32m----> 4\u001b[0;31m     \u001b[0mprueba\u001b[0m\u001b[0;34m.\u001b[0m\u001b[0mfit\u001b[0m\u001b[0;34m(\u001b[0m\u001b[0mRDD_PCA\u001b[0m\u001b[0;34m)\u001b[0m\u001b[0;34m\u001b[0m\u001b[0m\n\u001b[0m\u001b[1;32m      5\u001b[0m     \u001b[0mW\u001b[0m\u001b[0;34m=\u001b[0m\u001b[0mprueba\u001b[0m\u001b[0;34m.\u001b[0m\u001b[0m_W\u001b[0m\u001b[0;34m\u001b[0m\u001b[0m\n\u001b[1;32m      6\u001b[0m     \u001b[0mU\u001b[0m\u001b[0;34m=\u001b[0m\u001b[0mprueba\u001b[0m\u001b[0;34m.\u001b[0m\u001b[0m_U\u001b[0m\u001b[0;34m\u001b[0m\u001b[0m\n",
      "\u001b[0;32m/export/usuarios_ml4ds/jarenas/jupyter-spark/alba/MVA_toolbox_alba/classMVA.pyc\u001b[0m in \u001b[0;36mfit\u001b[0;34m(self, data)\u001b[0m\n\u001b[1;32m    334\u001b[0m             \u001b[0mU_old\u001b[0m \u001b[0;34m=\u001b[0m \u001b[0mnp\u001b[0m\u001b[0;34m.\u001b[0m\u001b[0mempty\u001b[0m\u001b[0;34m(\u001b[0m\u001b[0;34m(\u001b[0m\u001b[0mR\u001b[0m\u001b[0;34m,\u001b[0m\u001b[0mself\u001b[0m\u001b[0;34m.\u001b[0m\u001b[0m_numVariables\u001b[0m\u001b[0;34m)\u001b[0m\u001b[0;34m)\u001b[0m\u001b[0;34m\u001b[0m\u001b[0m\n\u001b[1;32m    335\u001b[0m             \u001b[0mCyx\u001b[0m\u001b[0;34m=\u001b[0m\u001b[0mself\u001b[0m\u001b[0;34m.\u001b[0m\u001b[0mcalcCov\u001b[0m\u001b[0;34m(\u001b[0m\u001b[0;34m'Cyx'\u001b[0m\u001b[0;34m)\u001b[0m\u001b[0;34m\u001b[0m\u001b[0m\n\u001b[0;32m--> 336\u001b[0;31m             \u001b[0mW\u001b[0m \u001b[0;34m=\u001b[0m \u001b[0mself\u001b[0m\u001b[0;34m.\u001b[0m\u001b[0mstepW\u001b[0m\u001b[0;34m(\u001b[0m\u001b[0mU_old\u001b[0m\u001b[0;34m,\u001b[0m\u001b[0mCyx\u001b[0m\u001b[0;34m,\u001b[0m\u001b[0mOmega\u001b[0m\u001b[0;34m,\u001b[0m\u001b[0mOmega_1\u001b[0m\u001b[0;34m)\u001b[0m\u001b[0;34m\u001b[0m\u001b[0m\n\u001b[0m\u001b[1;32m    337\u001b[0m             \u001b[0mU_new\u001b[0m \u001b[0;34m=\u001b[0m \u001b[0mself\u001b[0m\u001b[0;34m.\u001b[0m\u001b[0mstepU\u001b[0m\u001b[0;34m(\u001b[0m\u001b[0mW\u001b[0m\u001b[0;34m,\u001b[0m\u001b[0mOmega\u001b[0m\u001b[0;34m,\u001b[0m\u001b[0mR\u001b[0m\u001b[0;34m)\u001b[0m\u001b[0;34m\u001b[0m\u001b[0m\n\u001b[1;32m    338\u001b[0m \u001b[0;34m\u001b[0m\u001b[0m\n",
      "\u001b[0;32m/export/usuarios_ml4ds/jarenas/jupyter-spark/alba/MVA_toolbox_alba/classMVA.pyc\u001b[0m in \u001b[0;36mstepW\u001b[0;34m(self, U, Cyx, Omega, Omega_1)\u001b[0m\n\u001b[1;32m    287\u001b[0m         \u001b[0;32mprint\u001b[0m \u001b[0mOmega\u001b[0m\u001b[0;34m.\u001b[0m\u001b[0mshape\u001b[0m\u001b[0;34m\u001b[0m\u001b[0m\n\u001b[1;32m    288\u001b[0m         \u001b[0mA\u001b[0m \u001b[0;34m=\u001b[0m \u001b[0mOmega\u001b[0m\u001b[0;34m.\u001b[0m\u001b[0mdot\u001b[0m\u001b[0;34m(\u001b[0m\u001b[0mCyx\u001b[0m\u001b[0;34m)\u001b[0m\u001b[0;34m.\u001b[0m\u001b[0mdot\u001b[0m\u001b[0;34m(\u001b[0m\u001b[0mU\u001b[0m\u001b[0;34m.\u001b[0m\u001b[0mT\u001b[0m\u001b[0;34m)\u001b[0m\u001b[0;34m\u001b[0m\u001b[0m\n\u001b[0;32m--> 289\u001b[0;31m         \u001b[0mV\u001b[0m\u001b[0;34m,\u001b[0m \u001b[0mD\u001b[0m\u001b[0;34m,\u001b[0m \u001b[0mV2\u001b[0m \u001b[0;34m=\u001b[0m \u001b[0mnp\u001b[0m\u001b[0;34m.\u001b[0m\u001b[0mlinalg\u001b[0m\u001b[0;34m.\u001b[0m\u001b[0msvd\u001b[0m\u001b[0;34m(\u001b[0m\u001b[0mA\u001b[0m\u001b[0;34m,\u001b[0m\u001b[0mfull_matrices\u001b[0m\u001b[0;34m=\u001b[0m\u001b[0mFalse\u001b[0m\u001b[0;34m)\u001b[0m\u001b[0;34m\u001b[0m\u001b[0m\n\u001b[0m\u001b[1;32m    290\u001b[0m         \u001b[0mW\u001b[0m \u001b[0;34m=\u001b[0m \u001b[0mnp\u001b[0m\u001b[0;34m.\u001b[0m\u001b[0mdot\u001b[0m\u001b[0;34m(\u001b[0m\u001b[0mOmega_1\u001b[0m\u001b[0;34m,\u001b[0m\u001b[0mV\u001b[0m\u001b[0;34m)\u001b[0m\u001b[0;34m\u001b[0m\u001b[0m\n\u001b[1;32m    291\u001b[0m \u001b[0;34m\u001b[0m\u001b[0m\n",
      "\u001b[0;32m/usr/lib64/python2.7/site-packages/numpy/linalg/linalg.pyc\u001b[0m in \u001b[0;36msvd\u001b[0;34m(a, full_matrices, compute_uv)\u001b[0m\n\u001b[1;32m   1402\u001b[0m \u001b[0;34m\u001b[0m\u001b[0m\n\u001b[1;32m   1403\u001b[0m         \u001b[0msignature\u001b[0m \u001b[0;34m=\u001b[0m \u001b[0;34m'D->DdD'\u001b[0m \u001b[0;32mif\u001b[0m \u001b[0misComplexType\u001b[0m\u001b[0;34m(\u001b[0m\u001b[0mt\u001b[0m\u001b[0;34m)\u001b[0m \u001b[0;32melse\u001b[0m \u001b[0;34m'd->ddd'\u001b[0m\u001b[0;34m\u001b[0m\u001b[0m\n\u001b[0;32m-> 1404\u001b[0;31m         \u001b[0mu\u001b[0m\u001b[0;34m,\u001b[0m \u001b[0ms\u001b[0m\u001b[0;34m,\u001b[0m \u001b[0mvt\u001b[0m \u001b[0;34m=\u001b[0m \u001b[0mgufunc\u001b[0m\u001b[0;34m(\u001b[0m\u001b[0ma\u001b[0m\u001b[0;34m,\u001b[0m \u001b[0msignature\u001b[0m\u001b[0;34m=\u001b[0m\u001b[0msignature\u001b[0m\u001b[0;34m,\u001b[0m \u001b[0mextobj\u001b[0m\u001b[0;34m=\u001b[0m\u001b[0mextobj\u001b[0m\u001b[0;34m)\u001b[0m\u001b[0;34m\u001b[0m\u001b[0m\n\u001b[0m\u001b[1;32m   1405\u001b[0m         \u001b[0mu\u001b[0m \u001b[0;34m=\u001b[0m \u001b[0mu\u001b[0m\u001b[0;34m.\u001b[0m\u001b[0mastype\u001b[0m\u001b[0;34m(\u001b[0m\u001b[0mresult_t\u001b[0m\u001b[0;34m,\u001b[0m \u001b[0mcopy\u001b[0m\u001b[0;34m=\u001b[0m\u001b[0mFalse\u001b[0m\u001b[0;34m)\u001b[0m\u001b[0;34m\u001b[0m\u001b[0m\n\u001b[1;32m   1406\u001b[0m         \u001b[0ms\u001b[0m \u001b[0;34m=\u001b[0m \u001b[0ms\u001b[0m\u001b[0;34m.\u001b[0m\u001b[0mastype\u001b[0m\u001b[0;34m(\u001b[0m\u001b[0m_realType\u001b[0m\u001b[0;34m(\u001b[0m\u001b[0mresult_t\u001b[0m\u001b[0;34m)\u001b[0m\u001b[0;34m,\u001b[0m \u001b[0mcopy\u001b[0m\u001b[0;34m=\u001b[0m\u001b[0mFalse\u001b[0m\u001b[0;34m)\u001b[0m\u001b[0;34m\u001b[0m\u001b[0m\n",
      "\u001b[0;32m/usr/lib64/python2.7/site-packages/numpy/linalg/linalg.pyc\u001b[0m in \u001b[0;36m_raise_linalgerror_svd_nonconvergence\u001b[0;34m(err, flag)\u001b[0m\n\u001b[1;32m     97\u001b[0m \u001b[0;34m\u001b[0m\u001b[0m\n\u001b[1;32m     98\u001b[0m \u001b[0;32mdef\u001b[0m \u001b[0m_raise_linalgerror_svd_nonconvergence\u001b[0m\u001b[0;34m(\u001b[0m\u001b[0merr\u001b[0m\u001b[0;34m,\u001b[0m \u001b[0mflag\u001b[0m\u001b[0;34m)\u001b[0m\u001b[0;34m:\u001b[0m\u001b[0;34m\u001b[0m\u001b[0m\n\u001b[0;32m---> 99\u001b[0;31m     \u001b[0;32mraise\u001b[0m \u001b[0mLinAlgError\u001b[0m\u001b[0;34m(\u001b[0m\u001b[0;34m\"SVD did not converge\"\u001b[0m\u001b[0;34m)\u001b[0m\u001b[0;34m\u001b[0m\u001b[0m\n\u001b[0m\u001b[1;32m    100\u001b[0m \u001b[0;34m\u001b[0m\u001b[0m\n\u001b[1;32m    101\u001b[0m \u001b[0;32mdef\u001b[0m \u001b[0mget_linalg_error_extobj\u001b[0m\u001b[0;34m(\u001b[0m\u001b[0mcallback\u001b[0m\u001b[0;34m)\u001b[0m\u001b[0;34m:\u001b[0m\u001b[0;34m\u001b[0m\u001b[0m\n",
      "\u001b[0;31mLinAlgError\u001b[0m: SVD did not converge"
     ]
    }
   ],
   "source": [
    "##FUNCION OBJETIVO con los datos\n",
    "for i in range(10):\n",
    "    prueba = MVA('PCA','l1','None',1e-5,i+1,0.01,1e-3,100)\n",
    "    prueba.fit(RDD_PCA)\n",
    "    W=prueba._W\n",
    "    U=prueba._U\n",
    "    #mse=RDD_PCA.map(lambda x: np.mean(np.array(x - np.dot(W,np.dot(x, U.T)))**2)).mean()\n",
    "    print mse \n",
    "    \n",
    "#print prueba._U\n",
    "#print prueba._W"
   ]
  },
  {
   "cell_type": "code",
   "execution_count": 9,
   "metadata": {
    "collapsed": false,
    "deletable": true,
    "editable": true
   },
   "outputs": [
    {
     "name": "stdout",
     "output_type": "stream",
     "text": [
      "0.425506156911\n"
     ]
    }
   ],
   "source": [
    "W=prueba._W\n",
    "U=prueba._U\n",
    "mse=RDD_PCA.map(lambda x: np.mean(np.array(x - np.dot(W,np.dot(x, U.T)))**2)).mean()\n",
    "print mse \n"
   ]
  },
  {
   "cell_type": "code",
   "execution_count": null,
   "metadata": {
    "collapsed": true,
    "deletable": true,
    "editable": true
   },
   "outputs": [],
   "source": []
  }
 ],
 "metadata": {
  "kernelspec": {
   "display_name": "Python 2",
   "language": "python",
   "name": "python2"
  },
  "language_info": {
   "codemirror_mode": {
    "name": "ipython",
    "version": 2
   },
   "file_extension": ".py",
   "mimetype": "text/x-python",
   "name": "python",
   "nbconvert_exporter": "python",
   "pygments_lexer": "ipython2",
   "version": "2.7.13"
  },
  "name": "classMVA",
  "notebookId": 953418172802420
 },
 "nbformat": 4,
 "nbformat_minor": 0
}
