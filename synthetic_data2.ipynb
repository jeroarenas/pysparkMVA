{
 "cells": [
  {
   "cell_type": "code",
   "execution_count": 1,
   "metadata": {
    "collapsed": false,
    "deletable": true,
    "editable": true
   },
   "outputs": [],
   "source": [
    "from classMVA import MVA\n",
    "import numpy as np\n",
    "import matplotlib.pyplot as plt"
   ]
  },
  {
   "cell_type": "code",
   "execution_count": 2,
   "metadata": {
    "collapsed": false,
    "deletable": true,
    "editable": true
   },
   "outputs": [
    {
     "name": "stdout",
     "output_type": "stream",
     "text": [
      "[[   0.     0.3    0. ]\n",
      " [   0.     0.     0. ]\n",
      " [   0.     0.     0. ]\n",
      " [   0.4    0.3    0. ]\n",
      " [   0.5    0.3  100. ]\n",
      " [   0.     0.     0. ]\n",
      " [   0.     0.     0. ]]\n"
     ]
    },
    {
     "data": {
      "image/png": "[encoded data removed]",
      "text/plain": [
       "<matplotlib.figure.Figure at 0x7f59c712d050>"
      ]
     },
     "metadata": {},
     "output_type": "display_data"
    }
   ],
   "source": [
    "X = np.random.randn(5000,7) * np.array([1, 1, np.sqrt(0.5), np.sqrt(0.1), np.sqrt(0.01), 1e-4, 1e-4])\n",
    "\n",
    "#Regression coefficients\n",
    "R = np.array([[0, 0.3, 0],[0, 0, 0],[0, 0, 0], [0.4, 0.3, 0], [0.5, 0.3, 100], [0, 0, 0], [0, 0, 0]])\n",
    "\n",
    "print R\n",
    "\n",
    "Y = X.dot(R) + np.sqrt(1e-3)*np.random.randn(5000,3)\n",
    "\n",
    "plt.imshow(X.T.dot(X), interpolation='none')\n",
    "plt.show()"
   ]
  },
  {
   "cell_type": "code",
   "execution_count": 3,
   "metadata": {
    "collapsed": false,
    "deletable": true,
    "editable": true
   },
   "outputs": [
    {
     "name": "stdout",
     "output_type": "stream",
     "text": [
      "[[ 1.   0.   0.   0.3  0.   0.   0. ]\n",
      " [ 0.   1.   0.   0.   0.   0.   0. ]\n",
      " [ 0.   0.   1.   0.   0.   0.8  0. ]\n",
      " [ 0.   0.   0.   1.   0.   0.   0. ]\n",
      " [ 0.   0.   0.   0.   1.   0.   0. ]\n",
      " [ 0.   0.   0.   0.   0.   1.   0. ]\n",
      " [ 0.   0.   0.   0.   0.   0.   1. ]]\n"
     ]
    },
    {
     "data": {
      "image/png": "[encoded data removed]",
      "text/plain": [
       "<matplotlib.figure.Figure at 0x7f59d9ee5090>"
      ]
     },
     "metadata": {},
     "output_type": "display_data"
    }
   ],
   "source": [
    "#Finally, we mix a little bit some coordinates:\n",
    "W = np.eye(7,7)\n",
    "W[0,3] = .3\n",
    "W[2,5] = .8\n",
    "print W\n",
    "X2 = X.dot(W)\n",
    "plt.imshow(X2.T.dot(X2), interpolation='none')\n",
    "plt.show()"
   ]
  },
  {
   "cell_type": "code",
   "execution_count": 4,
   "metadata": {
    "collapsed": false,
    "deletable": true,
    "editable": true
   },
   "outputs": [
    {
     "name": "stdout",
     "output_type": "stream",
     "text": [
      "5000\n",
      "5000\n",
      "5000\n",
      "[1.1547565171114191, 0.3181660881474078, -1.2723047024508733, 0.38891256912866135, 0.01065705553788321, -1.0179807530869944, 7.768683268566467e-05]\n",
      "[0.0020226776609871787, 0.40818582643410717, 1.043476514835448]\n",
      "([0.0020226776609871787, 0.40818582643410717, 1.043476514835448], [1.1547565171114191, 0.3181660881474078, -1.2723047024508733, 0.38891256912866135, 0.01065705553788321, -1.0179807530869944, 7.768683268566467e-05])\n"
     ]
    }
   ],
   "source": [
    "\n",
    "RDD_X = sc.parallelize(X2.tolist())\n",
    "RDD_Y = sc.parallelize(Y.tolist())\n",
    "\n",
    "RDD_labeled = RDD_Y.zip(RDD_X)\n",
    "\n",
    "print RDD_X.count()\n",
    "print RDD_Y.count()\n",
    "print RDD_labeled.count()\n",
    "\n",
    "print RDD_X.first()\n",
    "print RDD_Y.first()\n",
    "print RDD_labeled.first()\n"
   ]
  },
  {
   "cell_type": "code",
   "execution_count": 5,
   "metadata": {
    "collapsed": false,
    "deletable": true,
    "editable": true
   },
   "outputs": [],
   "source": [
    "#PCA example\n",
    "prueba = MVA('PCA','l1','None',1e-5,7,0.0000001,1e-3,100)\n",
    "RDD_PCA = RDD_labeled.map(lambda x: x[1])\n",
    "prueba.prepareData(RDD_PCA)\n",
    "prueba.normalizer()"
   ]
  },
  {
   "cell_type": "code",
   "execution_count": 6,
   "metadata": {
    "collapsed": false,
    "deletable": true,
    "editable": true
   },
   "outputs": [
    {
     "name": "stdout",
     "output_type": "stream",
     "text": [
      "PCA\n",
      "l1\n",
      "None\n",
      "1e-05\n",
      "7\n",
      "7\n",
      "[(DenseVector([1.1548, 0.3182, -1.2723, 0.3889, 0.0107, -1.018, 0.0001]), DenseVector([1.1548, 0.3182, -1.2723, 0.3889, 0.0107, -1.018, 0.0001])), (DenseVector([-2.461, 0.4494, 0.0867, -0.7723, 0.0272, 0.0694, -0.0001]), DenseVector([-2.461, 0.4494, 0.0867, -0.7723, 0.0272, 0.0694, -0.0001]))]\n",
      "[(DenseVector([1.1624, 0.3185, -1.2673, 0.389, 0.0072, -1.014, 0.0001]), DenseVector([1.1624, 0.3185, -1.2673, 0.389, 0.0072, -1.014, 0.0001])), (DenseVector([-2.4534, 0.4497, 0.0918, -0.7722, 0.0238, 0.0734, -0.0001]), DenseVector([-2.4534, 0.4497, 0.0918, -0.7722, 0.0238, 0.0734, -0.0001]))]\n",
      "<pyspark.mllib.feature.StandardScalerModel object at 0x7f59f853c490>\n",
      "None\n",
      "10\n"
     ]
    }
   ],
   "source": [
    "print prueba._typeMVA\n",
    "print prueba._typeReg\n",
    "print prueba._typeNorm\n",
    "print prueba._tol\n",
    "print prueba._numVariables\n",
    "print prueba._M\n",
    "print prueba._data.take(2)\n",
    "print prueba._normdata.take(2)\n",
    "print prueba._scaler\n",
    "print prueba._U\n",
    "print prueba._max_Ustep"
   ]
  },
  {
   "cell_type": "code",
   "execution_count": 14,
   "metadata": {
    "collapsed": false,
    "deletable": true,
    "editable": true
   },
   "outputs": [
    {
     "name": "stdout",
     "output_type": "stream",
     "text": [
      "(6, 7)\n",
      "(7, 7)\n",
      "(7, 7)\n",
      "Extracting projection vector 0 out of 6\n",
      "Extracting projection vector 1 out of 6\n",
      "Extracting projection vector 2 out of 6\n",
      "Extracting projection vector 3 out of 6\n",
      "Extracting projection vector 4 out of 6\n",
      "Extracting projection vector 5 out of 6\n",
      "(6, 7)\n",
      "(7, 7)\n",
      "(7, 7)\n",
      "Extracting projection vector 0 out of 6\n",
      "Extracting projection vector 1 out of 6\n",
      "Extracting projection vector 2 out of 6\n",
      "Extracting projection vector 3 out of 6\n",
      "Extracting projection vector 4 out of 6\n",
      "Extracting projection vector 5 out of 6\n",
      "Frobenius norm error: 0.00239005254009\n",
      "(6, 7)\n",
      "(7, 7)\n",
      "(7, 7)\n",
      "Extracting projection vector 0 out of 6\n",
      "Extracting projection vector 1 out of 6\n",
      "Extracting projection vector 2 out of 6\n",
      "Extracting projection vector 3 out of 6\n",
      "Extracting projection vector 4 out of 6\n",
      "Extracting projection vector 5 out of 6\n",
      "Frobenius norm error: 3.98245914215e-06\n",
      "[[ -1.82840411e-03  -2.14136985e-04   5.00396795e-05  -6.09691805e-04\n",
      "    0.00000000e+00   3.96909973e-05  -0.00000000e+00]\n",
      " [  1.81029760e-04  -1.70912993e-03  -2.31692286e-05   5.24327375e-05\n",
      "    0.00000000e+00  -1.81943631e-05   0.00000000e+00]\n",
      " [ -4.48934033e-05   1.82666280e-05  -1.08246295e-03  -1.46094892e-05\n",
      "    0.00000000e+00  -8.65629730e-04   0.00000000e+00]\n",
      " [  4.76520255e-05   0.00000000e+00  -0.00000000e+00  -1.46621447e-04\n",
      "   -0.00000000e+00  -0.00000000e+00  -0.00000000e+00]\n",
      " [ -0.00000000e+00  -0.00000000e+00  -0.00000000e+00  -0.00000000e+00\n",
      "   -1.50169593e-05  -0.00000000e+00   0.00000000e+00]\n",
      " [  0.00000000e+00   0.00000000e+00   0.00000000e+00   0.00000000e+00\n",
      "   -0.00000000e+00   0.00000000e+00  -0.00000000e+00]]\n"
     ]
    }
   ],
   "source": [
    "prueba = MVA('PCA','l1','None',1e-5,7,0.001,1e-3,100)\n",
    "prueba.fit(RDD_PCA)\n",
    "print prueba._U"
   ]
  },
  {
   "cell_type": "code",
   "execution_count": 15,
   "metadata": {
    "collapsed": false,
    "deletable": true,
    "editable": true
   },
   "outputs": [
    {
     "name": "stdout",
     "output_type": "stream",
     "text": [
      "5000\n",
      "[array([ -2.53436531e-03,  -2.65800377e-04,   2.19742451e-03,\n",
      "        -1.65259396e-06,  -1.08817227e-07,   0.00000000e+00]), array([  4.86772254e-03,  -1.25674436e-03,  -3.32138326e-05,\n",
      "        -3.69165137e-06,  -3.57484155e-07,   0.00000000e+00])]\n",
      "[ -2.53436531e-03  -2.65800377e-04   2.19742451e-03  -1.65259396e-06\n",
      "  -1.08817227e-07   0.00000000e+00]\n"
     ]
    }
   ],
   "source": [
    "#RDD_NEW= RDD_PCA.map(lambda x: x.dot(((self._U).T))).collect()\n",
    "RDD_NEW=prueba.predict(RDD_PCA)\n",
    "print RDD_NEW.count()\n",
    "print RDD_NEW.take(2)\n",
    "print RDD_NEW.first()"
   ]
  },
  {
   "cell_type": "code",
   "execution_count": 16,
   "metadata": {
    "collapsed": false,
    "deletable": true,
    "editable": true
   },
   "outputs": [
    {
     "name": "stdout",
     "output_type": "stream",
     "text": [
      "[ -2.53436531e-03  -2.65800377e-04   2.19742451e-03  -1.65259396e-06\n",
      "  -1.08817227e-07   0.00000000e+00]\n"
     ]
    }
   ],
   "source": [
    "RDD2 = prueba._scaler.transform(RDD_PCA)\n",
    "\n",
    "U = prueba._U\n",
    "sc.broadcast(U)\n",
    "RDD2 = RDD2.map(lambda x: x.dot(((U).T)))\n",
    "\n",
    "print RDD2.first()\n",
    "\n",
    "#print RDD2.count()\n",
    "#print RDD2.take(2)"
   ]
  },
  {
   "cell_type": "code",
   "execution_count": 17,
   "metadata": {
    "collapsed": false,
    "deletable": true,
    "editable": true
   },
   "outputs": [],
   "source": [
    "def sum_matrix(matriz,n,m):\n",
    "    for i in range(n):\n",
    "        suma=0.00000000e+00\n",
    "        for j in range(m):\n",
    "            suma=suma+np.abs(matriz[i][j])\n",
    "            print np.abs(matriz[i][j])\n",
    "    \n",
    "    return suma"
   ]
  },
  {
   "cell_type": "code",
   "execution_count": 18,
   "metadata": {
    "collapsed": false,
    "deletable": true,
    "editable": true
   },
   "outputs": [
    {
     "name": "stdout",
     "output_type": "stream",
     "text": [
      "[[  0.00000000e+00   7.19752131e-06  -1.46624029e-05   1.37536385e-05\n",
      "   -1.35356864e-07   0.00000000e+00]\n",
      " [  7.19752131e-06   0.00000000e+00   7.88628649e-06   3.96251366e-06\n",
      "   -7.28192783e-08   0.00000000e+00]\n",
      " [ -1.46624029e-05   7.88628649e-06   0.00000000e+00   6.03623412e-07\n",
      "   -9.41918509e-09   0.00000000e+00]\n",
      " [  1.37536385e-05   3.96251366e-06   6.03623412e-07   0.00000000e+00\n",
      "    4.17459360e-10   0.00000000e+00]\n",
      " [ -1.35356864e-07  -7.28192783e-08  -9.41918509e-09   4.17459360e-10\n",
      "    0.00000000e+00   0.00000000e+00]\n",
      " [  0.00000000e+00   0.00000000e+00   0.00000000e+00   0.00000000e+00\n",
      "    0.00000000e+00   0.00000000e+00]]\n",
      "0.0\n",
      "7.19752131178e-06\n",
      "1.46624029418e-05\n",
      "1.37536385332e-05\n",
      "1.35356863803e-07\n",
      "7.19752131178e-06\n",
      "0.0\n",
      "7.88628649209e-06\n",
      "3.96251365968e-06\n",
      "7.28192782789e-08\n",
      "1.46624029418e-05\n",
      "7.88628649209e-06\n",
      "0.0\n",
      "6.03623412444e-07\n",
      "9.41918508858e-09\n",
      "1.37536385332e-05\n",
      "3.96251365968e-06\n",
      "6.03623412444e-07\n",
      "0.0\n",
      "4.17459360476e-10\n",
      "1.35356863803e-07\n",
      "7.28192782789e-08\n",
      "9.41918508858e-09\n",
      "4.17459360476e-10\n",
      "0.0\n",
      "suma= 2.18012786531e-07\n"
     ]
    },
    {
     "data": {
      "image/png": "[encoded data removed]",
      "text/plain": [
       "<matplotlib.figure.Figure at 0x7f59882b6fd0>"
      ]
     },
     "metadata": {},
     "output_type": "display_data"
    }
   ],
   "source": [
    "#BLANQUEADO DE DATOS\n",
    "\n",
    "X_2=(X2).dot(U.T)\n",
    "Cov=X_2.T.dot(X_2)\n",
    "MM=np.diagonal(Cov).reshape(1,6)\n",
    "from scipy import sparse\n",
    "diag=sparse.spdiags(MM,0,6,6).toarray()\n",
    "#print diag\n",
    "fin=Cov-diag\n",
    "print fin\n",
    "#print fin[0][1]\n",
    "suma=sum_matrix(fin,5,5)\n",
    "print 'suma= ' + str(suma) \n",
    "plt.imshow(np.abs(fin), interpolation='none')\n",
    "plt.show()"
   ]
  },
  {
   "cell_type": "code",
   "execution_count": 63,
   "metadata": {
    "collapsed": false,
    "deletable": true,
    "editable": true
   },
   "outputs": [
    {
     "name": "stdout",
     "output_type": "stream",
     "text": [
      "[[  7.75447806e-08   7.48123798e-10   0.00000000e+00   0.00000000e+00\n",
      "    0.00000000e+00   0.00000000e+00]\n",
      " [  7.48123798e-10   5.14681913e-08   0.00000000e+00   0.00000000e+00\n",
      "    0.00000000e+00   0.00000000e+00]\n",
      " [  0.00000000e+00   0.00000000e+00   0.00000000e+00   0.00000000e+00\n",
      "    0.00000000e+00   0.00000000e+00]\n",
      " [  0.00000000e+00   0.00000000e+00   0.00000000e+00   0.00000000e+00\n",
      "    0.00000000e+00   0.00000000e+00]\n",
      " [  0.00000000e+00   0.00000000e+00   0.00000000e+00   0.00000000e+00\n",
      "    0.00000000e+00   0.00000000e+00]\n",
      " [  0.00000000e+00   0.00000000e+00   0.00000000e+00   0.00000000e+00\n",
      "    0.00000000e+00   0.00000000e+00]]\n"
     ]
    },
    {
     "data": {
      "image/png": "[encoded data removed]",
      "text/plain": [
       "<matplotlib.figure.Figure at 0x7fd9a064e290>"
      ]
     },
     "metadata": {},
     "output_type": "display_data"
    }
   ],
   "source": [
    "matrix = RDD2.map(lambda x : np.dot(x[:,np.newaxis],x[:,np.newaxis].T)).mean()\n",
    "print matrix\n",
    "#X_2=(X2).dot(U.T)\n",
    "plt.imshow(matrix, interpolation='none')\n",
    "plt.show()"
   ]
  },
  {
   "cell_type": "code",
   "execution_count": 33,
   "metadata": {
    "collapsed": false,
    "deletable": true,
    "editable": true
   },
   "outputs": [
    {
     "name": "stdout",
     "output_type": "stream",
     "text": [
      "[('zero', 2), ('zero', 0), ('zero', 2), ('zero', 2), ('zero', 0), ('zero', 1), ('zero', 2), ('zero', 2)]\n",
      "[('zero', 7183)]\n"
     ]
    }
   ],
   "source": [
    "from operator import add\n",
    "def count_0s (array):\n",
    "    cuenta=0\n",
    "    for i in range(len(array)):\n",
    "        if array[i] > 1e-4 :\n",
    "            cuenta=cuenta+1\n",
    "    return cuenta\n",
    "\n",
    "#array= [  1.02782977e-03 ,  1.54021761e-04 , -1.67806562e-03 , -4.35857479e-05, -2.32505213e-06, 0.00000000e+00]\n",
    "\n",
    "#cuenta=count_0s(array)\n",
    "#print cuenta\n",
    "number_0s=RDD2.map(lambda x: ('zero',count_0s(x)))\n",
    "number=number_0s.reduceByKey(add)\n",
    "print number_0s.take(8)\n",
    "print number.collect()"
   ]
  },
  {
   "cell_type": "code",
   "execution_count": 7,
   "metadata": {
    "collapsed": false,
    "deletable": true,
    "editable": true
   },
   "outputs": [
    {
     "name": "stdout",
     "output_type": "stream",
     "text": [
      "(6, 7)\n",
      "(7, 7)\n",
      "(7, 7)\n",
      "Extracting projection vector 0 out of 6\n",
      "Extracting projection vector 1 out of 6\n",
      "Extracting projection vector 2 out of 6\n",
      "Extracting projection vector 3 out of 6\n",
      "Extracting projection vector 4 out of 6\n",
      "Extracting projection vector 5 out of 6\n",
      "(6, 7)\n",
      "(7, 7)\n",
      "(7, 7)\n",
      "Extracting projection vector 0 out of 6\n",
      "Extracting projection vector 1 out of 6\n",
      "Extracting projection vector 2 out of 6\n",
      "Extracting projection vector 3 out of 6\n",
      "Extracting projection vector 4 out of 6\n",
      "Extracting projection vector 5 out of 6\n",
      "Frobenius norm error: 0.00441065195743\n",
      "(6, 7)\n",
      "(7, 7)\n",
      "(7, 7)\n",
      "Extracting projection vector 0 out of 6\n",
      "Extracting projection vector 1 out of 6\n",
      "Extracting projection vector 2 out of 6\n",
      "Extracting projection vector 3 out of 6\n",
      "Extracting projection vector 4 out of 6\n",
      "Extracting projection vector 5 out of 6\n",
      "Frobenius norm error: 0.00437217878989\n",
      "(6, 7)\n",
      "(7, 7)\n",
      "(7, 7)\n",
      "Extracting projection vector 0 out of 6\n",
      "Extracting projection vector 1 out of 6\n",
      "Extracting projection vector 2 out of 6\n",
      "Extracting projection vector 3 out of 6\n",
      "Extracting projection vector 4 out of 6\n",
      "Extracting projection vector 5 out of 6\n",
      "Frobenius norm error: 2.71250363929e-18\n",
      "[[ -1.74515099e-03   2.01104127e-04  -8.88330189e-05  -5.79712135e-04\n",
      "    4.01664652e-07  -7.10655290e-05   4.52562653e-09]\n",
      " [ -1.62474693e-04  -1.65377961e-03  -9.29148111e-05  -6.04056058e-05\n",
      "   -2.48988313e-07  -7.43338955e-05  -6.98950828e-10]\n",
      " [  9.22180682e-05   9.09268346e-05  -1.09938282e-03   2.92851989e-05\n",
      "   -6.89885687e-07  -8.79500808e-04   1.77009166e-09]\n",
      " [  4.95536257e-05   5.67171518e-07   1.38494963e-07  -1.48990233e-04\n",
      "   -1.58611300e-06   1.10337730e-07  -3.02139141e-11]\n",
      " [ -3.30480002e-08   1.91963118e-08  -8.35365438e-09   1.70578692e-07\n",
      "   -1.70019824e-05  -6.88648542e-09   2.23156608e-10]\n",
      " [  0.00000000e+00   0.00000000e+00  -0.00000000e+00   0.00000000e+00\n",
      "    0.00000000e+00   0.00000000e+00   0.00000000e+00]]\n"
     ]
    }
   ],
   "source": [
    "#self, typeMVA, typeReg,typeNorm, tol, regParam=0.01, step=1e-3, iterations=100, max_Ustep=10):\n",
    "prueba = MVA('PCA','l1','None',1e-5,7,0.00000001,1e-3,100)\n",
    "prueba.fit(RDD_PCA)\n",
    "print prueba._U"
   ]
  },
  {
   "cell_type": "code",
   "execution_count": 8,
   "metadata": {
    "collapsed": false,
    "deletable": true,
    "editable": true
   },
   "outputs": [
    {
     "data": {
      "image/png": "[encoded data removed]",
      "text/plain": [
       "<matplotlib.figure.Figure at 0x7fbe5029ab50>"
      ]
     },
     "metadata": {},
     "output_type": "display_data"
    }
   ],
   "source": [
    "from sklearn import preprocessing\n",
    "\n",
    "plt.imshow(np.abs(preprocessing.normalize(prueba._U, norm='l2')), interpolation='none')\n",
    "plt.show()\n"
   ]
  },
  {
   "cell_type": "code",
   "execution_count": 9,
   "metadata": {
    "collapsed": false,
    "deletable": true,
    "editable": true
   },
   "outputs": [
    {
     "data": {
      "image/png": "[encoded data removed]",
      "text/plain": [
       "<matplotlib.figure.Figure at 0x7fbe503b7310>"
      ]
     },
     "metadata": {},
     "output_type": "display_data"
    }
   ],
   "source": [
    "from sklearn import decomposition\n",
    "pca = decomposition.PCA(n_components=6)\n",
    "pca.fit(RDD_PCA.collect())\n",
    "plt.imshow(np.abs(pca.components_), interpolation='none')\n",
    "plt.show()"
   ]
  },
  {
   "cell_type": "code",
   "execution_count": 31,
   "metadata": {
    "collapsed": false,
    "deletable": true,
    "editable": true
   },
   "outputs": [
    {
     "name": "stdout",
     "output_type": "stream",
     "text": [
      "(6, 7)\n",
      "(7, 7)\n",
      "(7, 7)\n",
      "Extracting projection vector 0 out of 6\n",
      "Extracting projection vector 1 out of 6\n",
      "Extracting projection vector 2 out of 6\n",
      "Extracting projection vector 3 out of 6\n",
      "Extracting projection vector 4 out of 6\n",
      "Extracting projection vector 5 out of 6\n",
      "(6, 7)\n",
      "(7, 7)\n",
      "(7, 7)\n",
      "Extracting projection vector 0 out of 6\n",
      "Extracting projection vector 1 out of 6\n",
      "Extracting projection vector 2 out of 6\n",
      "Extracting projection vector 3 out of 6\n",
      "Extracting projection vector 4 out of 6\n",
      "Extracting projection vector 5 out of 6\n",
      "Frobenius norm error: 0.0231243506135\n",
      "(6, 7)\n",
      "(7, 7)\n",
      "(7, 7)\n",
      "Extracting projection vector 0 out of 6\n",
      "Extracting projection vector 1 out of 6\n",
      "Extracting projection vector 2 out of 6\n",
      "Extracting projection vector 3 out of 6\n",
      "Extracting projection vector 4 out of 6\n",
      "Extracting projection vector 5 out of 6\n",
      "Frobenius norm error: 0.00608807147103\n",
      "(6, 7)\n",
      "(7, 7)\n",
      "(7, 7)\n",
      "Extracting projection vector 0 out of 6\n",
      "Extracting projection vector 1 out of 6\n",
      "Extracting projection vector 2 out of 6\n",
      "Extracting projection vector 3 out of 6\n",
      "Extracting projection vector 4 out of 6\n",
      "Extracting projection vector 5 out of 6\n",
      "Frobenius norm error: 0.00161070347016\n",
      "(6, 7)\n",
      "(7, 7)\n",
      "(7, 7)\n",
      "Extracting projection vector 0 out of 6\n",
      "Extracting projection vector 1 out of 6\n",
      "Extracting projection vector 2 out of 6\n",
      "Extracting projection vector 3 out of 6\n",
      "Extracting projection vector 4 out of 6\n",
      "Extracting projection vector 5 out of 6\n",
      "Frobenius norm error: 0.000423379699861\n",
      "(6, 7)\n",
      "(7, 7)\n",
      "(7, 7)\n",
      "Extracting projection vector 0 out of 6\n",
      "Extracting projection vector 1 out of 6\n",
      "Extracting projection vector 2 out of 6\n",
      "Extracting projection vector 3 out of 6\n",
      "Extracting projection vector 4 out of 6\n",
      "Extracting projection vector 5 out of 6\n",
      "Frobenius norm error: 0.000111442854441\n",
      "(6, 7)\n",
      "(7, 7)\n",
      "(7, 7)\n",
      "Extracting projection vector 0 out of 6\n",
      "Extracting projection vector 1 out of 6\n",
      "Extracting projection vector 2 out of 6\n",
      "Extracting projection vector 3 out of 6\n",
      "Extracting projection vector 4 out of 6\n",
      "Extracting projection vector 5 out of 6\n",
      "Frobenius norm error: 2.94308267333e-05\n",
      "(6, 7)\n",
      "(7, 7)\n",
      "(7, 7)\n",
      "Extracting projection vector 0 out of 6\n",
      "Extracting projection vector 1 out of 6\n",
      "Extracting projection vector 2 out of 6\n",
      "Extracting projection vector 3 out of 6\n",
      "Extracting projection vector 4 out of 6\n",
      "Extracting projection vector 5 out of 6\n",
      "Frobenius norm error: 7.80053759291e-06\n"
     ]
    }
   ],
   "source": [
    "prueba1 = MVA('PCA','l1','None',1e-5,7,0.0001,1e-2,100)\n",
    "prueba1.fit(RDD_PCA)"
   ]
  },
  {
   "cell_type": "code",
   "execution_count": 16,
   "metadata": {
    "collapsed": false,
    "deletable": true,
    "editable": true
   },
   "outputs": [
    {
     "data": {
      "image/png": "[encoded data removed]",
      "text/plain": [
       "<matplotlib.figure.Figure at 0x7fbe18060710>"
      ]
     },
     "metadata": {},
     "output_type": "display_data"
    }
   ],
   "source": [
    "\n",
    "plt.imshow(np.abs(preprocessing.normalize(prueba._U, norm='l2')), interpolation='none')\n",
    "plt.show()"
   ]
  },
  {
   "cell_type": "code",
   "execution_count": 32,
   "metadata": {
    "collapsed": false,
    "deletable": true,
    "editable": true
   },
   "outputs": [
    {
     "name": "stdout",
     "output_type": "stream",
     "text": [
      "(6, 7)\n",
      "(7, 7)\n",
      "(7, 7)\n",
      "Extracting projection vector 0 out of 6\n",
      "Extracting projection vector 1 out of 6\n",
      "Extracting projection vector 2 out of 6\n",
      "Extracting projection vector 3 out of 6\n",
      "Extracting projection vector 4 out of 6\n",
      "Extracting projection vector 5 out of 6\n",
      "(6, 7)\n",
      "(7, 7)\n",
      "(7, 7)\n",
      "Extracting projection vector 0 out of 6\n",
      "Extracting projection vector 1 out of 6\n",
      "Extracting projection vector 2 out of 6\n",
      "Extracting projection vector 3 out of 6\n",
      "Extracting projection vector 4 out of 6\n",
      "Extracting projection vector 5 out of 6\n",
      "Frobenius norm error: 0.378855631488\n",
      "(6, 7)\n",
      "(7, 7)\n",
      "(7, 7)\n",
      "Extracting projection vector 0 out of 6\n",
      "Extracting projection vector 1 out of 6\n",
      "Extracting projection vector 2 out of 6\n",
      "Extracting projection vector 3 out of 6\n",
      "Extracting projection vector 4 out of 6\n",
      "Extracting projection vector 5 out of 6\n",
      "Frobenius norm error: 0.0148666605533\n",
      "(6, 7)\n",
      "(7, 7)\n",
      "(7, 7)\n",
      "Extracting projection vector 0 out of 6\n",
      "Extracting projection vector 1 out of 6\n",
      "Extracting projection vector 2 out of 6\n",
      "Extracting projection vector 3 out of 6\n",
      "Extracting projection vector 4 out of 6\n",
      "Extracting projection vector 5 out of 6\n",
      "Frobenius norm error: 0.00386433039945\n",
      "(6, 7)\n",
      "(7, 7)\n",
      "(7, 7)\n",
      "Extracting projection vector 0 out of 6\n",
      "Extracting projection vector 1 out of 6\n",
      "Extracting projection vector 2 out of 6\n",
      "Extracting projection vector 3 out of 6\n",
      "Extracting projection vector 4 out of 6\n",
      "Extracting projection vector 5 out of 6\n",
      "Frobenius norm error: 0.00102347870361\n",
      "(6, 7)\n",
      "(7, 7)\n",
      "(7, 7)\n",
      "Extracting projection vector 0 out of 6\n",
      "Extracting projection vector 1 out of 6\n",
      "Extracting projection vector 2 out of 6\n",
      "Extracting projection vector 3 out of 6\n",
      "Extracting projection vector 4 out of 6\n",
      "Extracting projection vector 5 out of 6\n",
      "Frobenius norm error: 0.000265449648915\n",
      "(6, 7)\n",
      "(7, 7)\n",
      "(7, 7)\n",
      "Extracting projection vector 0 out of 6\n",
      "Extracting projection vector 1 out of 6\n",
      "Extracting projection vector 2 out of 6\n",
      "Extracting projection vector 3 out of 6\n",
      "Extracting projection vector 4 out of 6\n",
      "Extracting projection vector 5 out of 6\n",
      "Frobenius norm error: 6.80639722039e-05\n",
      "(6, 7)\n",
      "(7, 7)\n",
      "(7, 7)\n",
      "Extracting projection vector 0 out of 6\n",
      "Extracting projection vector 1 out of 6\n",
      "Extracting projection vector 2 out of 6\n",
      "Extracting projection vector 3 out of 6\n",
      "Extracting projection vector 4 out of 6\n",
      "Extracting projection vector 5 out of 6\n",
      "Frobenius norm error: 1.74708976239e-05\n",
      "(6, 7)\n",
      "(7, 7)\n",
      "(7, 7)\n",
      "Extracting projection vector 0 out of 6\n",
      "Extracting projection vector 1 out of 6\n",
      "Extracting projection vector 2 out of 6\n",
      "Extracting projection vector 3 out of 6\n",
      "Extracting projection vector 4 out of 6\n",
      "Extracting projection vector 5 out of 6\n",
      "Frobenius norm error: 4.48530110167e-06\n"
     ]
    }
   ],
   "source": [
    "prueba2 = MVA('PCA','l1','None',1e-5,7,0.01,1e-2,100)\n",
    "prueba2.fit(RDD_PCA)"
   ]
  },
  {
   "cell_type": "code",
   "execution_count": 33,
   "metadata": {
    "collapsed": false,
    "deletable": true,
    "editable": true
   },
   "outputs": [
    {
     "name": "stdout",
     "output_type": "stream",
     "text": [
      "(6, 7)\n",
      "(7, 7)\n",
      "(7, 7)\n",
      "Extracting projection vector 0 out of 6\n",
      "Extracting projection vector 1 out of 6\n",
      "Extracting projection vector 2 out of 6\n",
      "Extracting projection vector 3 out of 6\n",
      "Extracting projection vector 4 out of 6\n",
      "Extracting projection vector 5 out of 6\n",
      "(6, 7)\n",
      "(7, 7)\n",
      "(7, 7)\n",
      "Extracting projection vector 0 out of 6\n",
      "Extracting projection vector 1 out of 6\n",
      "Extracting projection vector 2 out of 6\n",
      "Extracting projection vector 3 out of 6\n",
      "Extracting projection vector 4 out of 6\n",
      "Extracting projection vector 5 out of 6\n",
      "Frobenius norm error: 0.00396112745111\n",
      "(6, 7)\n",
      "(7, 7)\n",
      "(7, 7)\n",
      "Extracting projection vector 0 out of 6\n",
      "Extracting projection vector 1 out of 6\n",
      "Extracting projection vector 2 out of 6\n",
      "Extracting projection vector 3 out of 6\n",
      "Extracting projection vector 4 out of 6\n",
      "Extracting projection vector 5 out of 6\n",
      "Frobenius norm error: 0.0013907111606\n",
      "(6, 7)\n",
      "(7, 7)\n",
      "(7, 7)\n",
      "Extracting projection vector 0 out of 6\n",
      "Extracting projection vector 1 out of 6\n",
      "Extracting projection vector 2 out of 6\n",
      "Extracting projection vector 3 out of 6\n",
      "Extracting projection vector 4 out of 6\n",
      "Extracting projection vector 5 out of 6\n",
      "Frobenius norm error: 8.31933692292e-06\n"
     ]
    }
   ],
   "source": [
    "prueba3 = MVA('PCA','l1','None',1e-5,7,0.1,1e-2,100)\n",
    "prueba3.fit(RDD_PCA)"
   ]
  },
  {
   "cell_type": "code",
   "execution_count": 44,
   "metadata": {
    "collapsed": false,
    "deletable": true,
    "editable": true
   },
   "outputs": [
    {
     "data": {
      "text/plain": [
       "<matplotlib.figure.Figure at 0x7f5964b48dd0>"
      ]
     },
     "metadata": {},
     "output_type": "display_data"
    },
    {
     "data": {
      "image/png": "[encoded data removed]",
      "text/plain": [
       "<matplotlib.figure.Figure at 0x7f5964b48790>"
      ]
     },
     "metadata": {},
     "output_type": "display_data"
    }
   ],
   "source": [
    "import matplotlib.pyplot as plt\n",
    "\n",
    "plt.figure()\n",
    "plt.plot(abs(prueba1._U.T[:,5]),'b',label='0.0001')\n",
    "plt.hold(True)\n",
    "plt.plot(abs(prueba2._U.T[:,5]),'r',label='0.01')\n",
    "plt.hold(True)\n",
    "plt.plot(abs(prueba3._U.T[:,5]),'g',label='0.1')\n",
    "\n",
    "plt.legend(loc = 1)\n",
    "\n",
    "plt.xlabel('k', fontsize=14)\n",
    "plt.ylabel('U(k)', fontsize=14)\n",
    "\n",
    "\n",
    "plt.show()"
   ]
  },
  {
   "cell_type": "code",
   "execution_count": 29,
   "metadata": {
    "collapsed": false,
    "deletable": true,
    "editable": true
   },
   "outputs": [
    {
     "data": {
      "image/png": "[encoded data removed]",
      "text/plain": [
       "<matplotlib.figure.Figure at 0x7f59882d6d90>"
      ]
     },
     "metadata": {},
     "output_type": "display_data"
    }
   ],
   "source": [
    "from sklearn import decomposition\n",
    "from sklearn import preprocessing\n",
    "plt.imshow(np.abs(preprocessing.normalize(prueba._U, norm='l2')), interpolation='none')\n",
    "plt.show()"
   ]
  },
  {
   "cell_type": "code",
   "execution_count": null,
   "metadata": {
    "collapsed": true,
    "deletable": true,
    "editable": true
   },
   "outputs": [],
   "source": []
  },
  {
   "cell_type": "code",
   "execution_count": 30,
   "metadata": {
    "collapsed": false,
    "deletable": true,
    "editable": true
   },
   "outputs": [
    {
     "data": {
      "image/png": "[encoded data removed]",
      "text/plain": [
       "<matplotlib.figure.Figure at 0x7f5964e07250>"
      ]
     },
     "metadata": {},
     "output_type": "display_data"
    }
   ],
   "source": [
    "plt.plot(np.abs(preprocessing.normalize(prueba._U, norm='l2')).T)\n",
    "plt.show()"
   ]
  },
  {
   "cell_type": "code",
   "execution_count": 11,
   "metadata": {
    "collapsed": false,
    "deletable": true,
    "editable": true
   },
   "outputs": [
    {
     "data": {
      "image/png": "[encoded data removed]",
      "text/plain": [
       "<matplotlib.figure.Figure at 0x7fbe182fa750>"
      ]
     },
     "metadata": {},
     "output_type": "display_data"
    }
   ],
   "source": [
    "plt.plot(abs(pca.components_.T))\n",
    "plt.show()"
   ]
  },
  {
   "cell_type": "code",
   "execution_count": 105,
   "metadata": {
    "collapsed": false,
    "deletable": true,
    "editable": true
   },
   "outputs": [
    {
     "name": "stdout",
     "output_type": "stream",
     "text": [
      "(6, 7)\n",
      "(7, 7)\n",
      "(7, 7)\n",
      "Extracting projection vector 0 out of 6\n",
      "Extracting projection vector 1 out of 6\n",
      "Extracting projection vector 2 out of 6\n",
      "Extracting projection vector 3 out of 6\n",
      "Extracting projection vector 4 out of 6\n",
      "Extracting projection vector 5 out of 6\n",
      "(6, 7)\n",
      "(7, 7)\n",
      "(7, 7)\n",
      "Extracting projection vector 0 out of 6\n",
      "Extracting projection vector 1 out of 6\n",
      "Extracting projection vector 2 out of 6\n",
      "Extracting projection vector 3 out of 6\n",
      "Extracting projection vector 4 out of 6\n",
      "Extracting projection vector 5 out of 6\n",
      "Frobenius norm error: 0.00118711707341\n",
      "(6, 7)\n",
      "(7, 7)\n",
      "(7, 7)\n",
      "Extracting projection vector 0 out of 6\n",
      "Extracting projection vector 1 out of 6\n",
      "Extracting projection vector 2 out of 6\n",
      "Extracting projection vector 3 out of 6\n",
      "Extracting projection vector 4 out of 6\n",
      "Extracting projection vector 5 out of 6\n",
      "Frobenius norm error: 0.000113063072909\n",
      "(6, 7)\n",
      "(7, 7)\n",
      "(7, 7)\n",
      "Extracting projection vector 0 out of 6\n",
      "Extracting projection vector 1 out of 6\n",
      "Extracting projection vector 2 out of 6\n",
      "Extracting projection vector 3 out of 6\n",
      "Extracting projection vector 4 out of 6\n",
      "Extracting projection vector 5 out of 6\n",
      "Frobenius norm error: 0.000148445845869\n",
      "(6, 7)\n",
      "(7, 7)\n",
      "(7, 7)\n",
      "Extracting projection vector 0 out of 6\n",
      "Extracting projection vector 1 out of 6\n",
      "Extracting projection vector 2 out of 6\n",
      "Extracting projection vector 3 out of 6\n",
      "Extracting projection vector 4 out of 6\n",
      "Extracting projection vector 5 out of 6\n",
      "Frobenius norm error: 3.82671004435e-05\n",
      "(6, 7)\n",
      "(7, 7)\n",
      "(7, 7)\n",
      "Extracting projection vector 0 out of 6\n",
      "Extracting projection vector 1 out of 6\n",
      "Extracting projection vector 2 out of 6\n",
      "Extracting projection vector 3 out of 6\n",
      "Extracting projection vector 4 out of 6\n",
      "Extracting projection vector 5 out of 6\n",
      "Frobenius norm error: 9.83183448269e-06\n"
     ]
    }
   ],
   "source": [
    "prueba = MVA('PCA','l1','None',1e-5,7,0.1,1e-3,100)\n",
    "prueba.fit(RDD_PCA)"
   ]
  },
  {
   "cell_type": "code",
   "execution_count": 106,
   "metadata": {
    "collapsed": false,
    "deletable": true,
    "editable": true
   },
   "outputs": [
    {
     "name": "stdout",
     "output_type": "stream",
     "text": [
      "[[-0.00157569 -0.00024469 -0.         -0.00038381  0.         -0.          0.        ]\n",
      " [ 0.00020559 -0.00150568  0.          0.         -0.          0.          0.        ]\n",
      " [ 0.         -0.         -0.00087473  0.         -0.         -0.00066564\n",
      "   0.        ]\n",
      " [-0.         -0.          0.          0.         -0.          0.          0.        ]\n",
      " [-0.         -0.         -0.          0.          0.         -0.         -0.        ]\n",
      " [-0.         -0.          0.          0.          0.          0.          0.        ]]\n"
     ]
    },
    {
     "data": {
      "image/png": "[encoded data removed]",
      "text/plain": [
       "<matplotlib.figure.Figure at 0x7f09802aaad0>"
      ]
     },
     "metadata": {},
     "output_type": "display_data"
    }
   ],
   "source": [
    "from sklearn import preprocessing\n",
    "print prueba._U\n",
    "plt.imshow(np.abs(preprocessing.normalize(prueba._U, norm='l2')), interpolation='none')\n",
    "plt.show()"
   ]
  },
  {
   "cell_type": "code",
   "execution_count": 13,
   "metadata": {
    "collapsed": false,
    "deletable": true,
    "editable": true
   },
   "outputs": [
    {
     "name": "stdout",
     "output_type": "stream",
     "text": [
      "(2, 7)\n",
      "(3, 7)\n",
      "(3, 3)\n",
      "Extracting projection vector 0 out of 2\n",
      "Extracting projection vector 1 out of 2\n",
      "(2, 7)\n",
      "(3, 7)\n",
      "(3, 3)\n",
      "Extracting projection vector 0 out of 2\n",
      "Extracting projection vector 1 out of 2\n",
      "Frobenius norm error: 0.158786304691\n",
      "(2, 7)\n",
      "(3, 7)\n",
      "(3, 3)\n",
      "Extracting projection vector 0 out of 2\n",
      "Extracting projection vector 1 out of 2\n",
      "Frobenius norm error: 0.000296042206739\n",
      "(2, 7)\n",
      "(3, 7)\n",
      "(3, 3)\n",
      "Extracting projection vector 0 out of 2\n",
      "Extracting projection vector 1 out of 2\n",
      "Frobenius norm error: 3.84873464957e-06\n"
     ]
    }
   ],
   "source": [
    "#self, typeMVA, typeReg,typeNorm, tol, regParam=0.01, step=1e-3, iterations=100, max_Ustep=10):\n",
    "prueba = MVA('OPLS','l1','norm',1e-5,7)\n",
    "prueba.fit(RDD_labeled)"
   ]
  },
  {
   "cell_type": "code",
   "execution_count": 20,
   "metadata": {
    "collapsed": false,
    "deletable": true,
    "editable": true
   },
   "outputs": [
    {
     "data": {
      "image/png": "[encoded data removed]",
      "text/plain": [
       "<matplotlib.figure.Figure at 0x7fbe100a1fd0>"
      ]
     },
     "metadata": {},
     "output_type": "display_data"
    }
   ],
   "source": [
    "\n",
    "plt.imshow(np.abs(prueba._U), interpolation='none')\n",
    "plt.show()"
   ]
  },
  {
   "cell_type": "code",
   "execution_count": 21,
   "metadata": {
    "collapsed": false,
    "deletable": true,
    "editable": true
   },
   "outputs": [
    {
     "data": {
      "image/png": "[encoded data removed]",
      "text/plain": [
       "<matplotlib.figure.Figure at 0x7fbe240a2810>"
      ]
     },
     "metadata": {},
     "output_type": "display_data"
    }
   ],
   "source": [
    "plt.plot(abs(prueba._U.T[:,0]))\n",
    "plt.show()"
   ]
  },
  {
   "cell_type": "code",
   "execution_count": 7,
   "metadata": {
    "collapsed": false,
    "deletable": true,
    "editable": true
   },
   "outputs": [
    {
     "data": {
      "image/png": "[encoded data removed]",
      "text/plain": [
       "<matplotlib.figure.Figure at 0x7fb264185490>"
      ]
     },
     "metadata": {},
     "output_type": "display_data"
    }
   ],
   "source": [
    "import matplotlib.pyplot as plt\n",
    "import numpy as np\n",
    "\n",
    "x=[0.00001, 0.001,0.1,0.5]\n",
    "y=[3.080e-7,3.137e-7,4.438e-5,5.858e-5]\n",
    "plt.semilogx()\n",
    "plt.semilogy()\n",
    "#plt.legend(loc = 2)\n",
    "plt.xlabel('Reg', fontsize=14)\n",
    "plt.ylabel('Sum', fontsize=14)\n",
    "plt.plot(x,y,'g')\n",
    "plt.show()"
   ]
  },
  {
   "cell_type": "code",
   "execution_count": null,
   "metadata": {
    "collapsed": true
   },
   "outputs": [],
   "source": []
  }
 ],
 "metadata": {
  "kernelspec": {
   "display_name": "Python 2",
   "language": "python",
   "name": "python2"
  },
  "language_info": {
   "codemirror_mode": {
    "name": "ipython",
    "version": 2
   },
   "file_extension": ".py",
   "mimetype": "text/x-python",
   "name": "python",
   "nbconvert_exporter": "python",
   "pygments_lexer": "ipython2",
   "version": "2.7.13"
  },
  "name": "classMVA",
  "notebookId": 953418172802420
 },
 "nbformat": 4,
 "nbformat_minor": 0
}
